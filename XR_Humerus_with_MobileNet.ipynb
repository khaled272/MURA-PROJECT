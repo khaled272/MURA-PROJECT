{
 "cells": [
  {
   "cell_type": "code",
   "execution_count": null,
   "metadata": {},
   "outputs": [],
   "source": [
    "# This code is to train a model to detect the abnormality \n",
    "# in the humerus xray."
   ]
  },
  {
   "cell_type": "code",
   "execution_count": 1,
   "metadata": {
    "colab": {
     "base_uri": "https://localhost:8080/",
     "height": 33
    },
    "colab_type": "code",
    "id": "A3Hge7IbpXbY",
    "outputId": "378ea428-17e0-45a1-d47e-7282157aeba1"
   },
   "outputs": [
    {
     "name": "stderr",
     "output_type": "stream",
     "text": [
      "Using TensorFlow backend.\n"
     ]
    }
   ],
   "source": [
    "import os\n",
    "import numpy as np\n",
    "import keras\n",
    "from keras import backend as K\n",
    "from keras.layers.core import Dense, Activation,Dropout\n",
    "from keras import regularizers\n",
    "from keras.optimizers import Adam, Adadelta\n",
    "from keras.metrics import categorical_crossentropy\n",
    "from keras.preprocessing.image import ImageDataGenerator\n",
    "from keras.preprocessing import image\n",
    "from keras.models import Model\n",
    "from keras.applications import imagenet_utils\n",
    "from sklearn.metrics import confusion_matrix\n",
    "import itertools\n",
    "import matplotlib.pyplot as plt\n",
    "%matplotlib inline"
   ]
  },
  {
   "cell_type": "code",
   "execution_count": 2,
   "metadata": {
    "colab": {},
    "colab_type": "code",
    "id": "vDbrkx1lpYKo"
   },
   "outputs": [],
   "source": [
    "train_path = 'XR_HUMERUS/train'\n",
    "valid_path = 'XR_HUMERUS/valid'\n",
    "test_path = 'XR_HUMERUS/test'"
   ]
  },
  {
   "cell_type": "code",
   "execution_count": 3,
   "metadata": {
    "colab": {
     "base_uri": "https://localhost:8080/",
     "height": 67
    },
    "colab_type": "code",
    "id": "GGAEwJv1r8LU",
    "outputId": "7070b3d9-a680-45a5-8ed0-060b023719ec",
    "scrolled": true
   },
   "outputs": [
    {
     "name": "stdout",
     "output_type": "stream",
     "text": [
      "Found 1145 images belonging to 2 classes.\n",
      "Found 127 images belonging to 2 classes.\n",
      "Found 288 images belonging to 2 classes.\n"
     ]
    }
   ],
   "source": [
    "# Generate batches of tensor image data with real-time data augmentation. The data will be looped over (in batches)\n",
    "train_batches = ImageDataGenerator(preprocessing_function=keras.applications.mobilenet.preprocess_input).flow_from_directory(\n",
    "    train_path, target_size=(224,224), batch_size=10)\n",
    "valid_batches = ImageDataGenerator(preprocessing_function=keras.applications.mobilenet.preprocess_input).flow_from_directory(\n",
    "    valid_path, target_size=(224,224), batch_size=10)\n",
    "test_batches = ImageDataGenerator(preprocessing_function=keras.applications.mobilenet.preprocess_input).flow_from_directory(\n",
    "    test_path, target_size=(224,224), batch_size=10, shuffle=False)"
   ]
  },
  {
   "cell_type": "code",
   "execution_count": 4,
   "metadata": {
    "colab": {},
    "colab_type": "code",
    "id": "jzlXch-Nr787"
   },
   "outputs": [],
   "source": [
    "# Confusion matrix function\n",
    "def plot_confusion_matrix(cm, classes,\n",
    "                          normalize=False,\n",
    "                          title='Confusion matrix',\n",
    "                          cmap=plt.cm.Blues):\n",
    "    \"\"\"\n",
    "    This function prints and plots the confusion matrix.\n",
    "    Normalization can be applied by setting `normalize=True`.\n",
    "    \"\"\"\n",
    "    plt.imshow(cm, interpolation='nearest', cmap=cmap)\n",
    "    plt.title(title)\n",
    "    plt.colorbar()\n",
    "    tick_marks = np.arange(len(classes))\n",
    "    plt.xticks(tick_marks, classes, rotation=45)\n",
    "    plt.yticks(tick_marks, classes)\n",
    "\n",
    "    if normalize:\n",
    "        cm = cm.astype('float') / cm.sum(axis=1)[:, np.newaxis]\n",
    "        print(\"Normalized confusion matrix\")\n",
    "    else:\n",
    "        print('Confusion matrix, without normalization')\n",
    "\n",
    "    print(cm)\n",
    "\n",
    "    thresh = cm.max() / 2.\n",
    "    for i, j in itertools.product(range(cm.shape[0]), range(cm.shape[1])):\n",
    "        plt.text(j, i, cm[i, j],\n",
    "                 horizontalalignment=\"center\",\n",
    "                 color=\"white\" if cm[i, j] > thresh else \"black\")\n",
    "\n",
    "    plt.tight_layout()\n",
    "    plt.ylabel('True label')\n",
    "    plt.xlabel('Predicted label')"
   ]
  },
  {
   "cell_type": "code",
   "execution_count": 40,
   "metadata": {
    "colab": {},
    "colab_type": "code",
    "id": "KNjQnJOow91n"
   },
   "outputs": [],
   "source": [
    "#Set the model to be = MobileNet with trained weights transfered.\n",
    "mobile = keras.applications.mobilenet.MobileNet()"
   ]
  },
  {
   "cell_type": "code",
   "execution_count": 41,
   "metadata": {},
   "outputs": [],
   "source": [
    "# Modify the structure by removing the last 5 layers \n",
    "# and then adding and two dense layers with relu activation\n",
    "# dropout and one dense layer without dropout \n",
    "# and output layer with 7 neurons and softmax activation\n",
    "x = mobile.layers[-6].output\n",
    "predictions = Dense(2, activation='softmax')(x)\n",
    "model = Model(inputs=mobile.input, outputs=predictions)\n",
    "x = model.layers[-2].output\n",
    "x = Dense(1024, activation='relu')(x)\n",
    "x = Dropout(0.5)(x)\n",
    "x = Dense(1024, activation='relu')(x)\n",
    "x = Dropout(0.5)(x)\n",
    "x = Dense(256, activation='relu')(x)\n",
    "\n",
    "predictions = Dense(2, activation='softmax')(x)\n",
    "\n",
    "model = Model(inputs=model.input, outputs=predictions)"
   ]
  },
  {
   "cell_type": "code",
   "execution_count": 43,
   "metadata": {
    "scrolled": false
   },
   "outputs": [
    {
     "name": "stdout",
     "output_type": "stream",
     "text": [
      "_________________________________________________________________\n",
      "Layer (type)                 Output Shape              Param #   \n",
      "=================================================================\n",
      "input_2 (InputLayer)         (None, 224, 224, 3)       0         \n",
      "_________________________________________________________________\n",
      "conv1_pad (ZeroPadding2D)    (None, 225, 225, 3)       0         \n",
      "_________________________________________________________________\n",
      "conv1 (Conv2D)               (None, 112, 112, 32)      864       \n",
      "_________________________________________________________________\n",
      "conv1_bn (BatchNormalization (None, 112, 112, 32)      128       \n",
      "_________________________________________________________________\n",
      "conv1_relu (ReLU)            (None, 112, 112, 32)      0         \n",
      "_________________________________________________________________\n",
      "conv_dw_1 (DepthwiseConv2D)  (None, 112, 112, 32)      288       \n",
      "_________________________________________________________________\n",
      "conv_dw_1_bn (BatchNormaliza (None, 112, 112, 32)      128       \n",
      "_________________________________________________________________\n",
      "conv_dw_1_relu (ReLU)        (None, 112, 112, 32)      0         \n",
      "_________________________________________________________________\n",
      "conv_pw_1 (Conv2D)           (None, 112, 112, 64)      2048      \n",
      "_________________________________________________________________\n",
      "conv_pw_1_bn (BatchNormaliza (None, 112, 112, 64)      256       \n",
      "_________________________________________________________________\n",
      "conv_pw_1_relu (ReLU)        (None, 112, 112, 64)      0         \n",
      "_________________________________________________________________\n",
      "conv_pad_2 (ZeroPadding2D)   (None, 113, 113, 64)      0         \n",
      "_________________________________________________________________\n",
      "conv_dw_2 (DepthwiseConv2D)  (None, 56, 56, 64)        576       \n",
      "_________________________________________________________________\n",
      "conv_dw_2_bn (BatchNormaliza (None, 56, 56, 64)        256       \n",
      "_________________________________________________________________\n",
      "conv_dw_2_relu (ReLU)        (None, 56, 56, 64)        0         \n",
      "_________________________________________________________________\n",
      "conv_pw_2 (Conv2D)           (None, 56, 56, 128)       8192      \n",
      "_________________________________________________________________\n",
      "conv_pw_2_bn (BatchNormaliza (None, 56, 56, 128)       512       \n",
      "_________________________________________________________________\n",
      "conv_pw_2_relu (ReLU)        (None, 56, 56, 128)       0         \n",
      "_________________________________________________________________\n",
      "conv_dw_3 (DepthwiseConv2D)  (None, 56, 56, 128)       1152      \n",
      "_________________________________________________________________\n",
      "conv_dw_3_bn (BatchNormaliza (None, 56, 56, 128)       512       \n",
      "_________________________________________________________________\n",
      "conv_dw_3_relu (ReLU)        (None, 56, 56, 128)       0         \n",
      "_________________________________________________________________\n",
      "conv_pw_3 (Conv2D)           (None, 56, 56, 128)       16384     \n",
      "_________________________________________________________________\n",
      "conv_pw_3_bn (BatchNormaliza (None, 56, 56, 128)       512       \n",
      "_________________________________________________________________\n",
      "conv_pw_3_relu (ReLU)        (None, 56, 56, 128)       0         \n",
      "_________________________________________________________________\n",
      "conv_pad_4 (ZeroPadding2D)   (None, 57, 57, 128)       0         \n",
      "_________________________________________________________________\n",
      "conv_dw_4 (DepthwiseConv2D)  (None, 28, 28, 128)       1152      \n",
      "_________________________________________________________________\n",
      "conv_dw_4_bn (BatchNormaliza (None, 28, 28, 128)       512       \n",
      "_________________________________________________________________\n",
      "conv_dw_4_relu (ReLU)        (None, 28, 28, 128)       0         \n",
      "_________________________________________________________________\n",
      "conv_pw_4 (Conv2D)           (None, 28, 28, 256)       32768     \n",
      "_________________________________________________________________\n",
      "conv_pw_4_bn (BatchNormaliza (None, 28, 28, 256)       1024      \n",
      "_________________________________________________________________\n",
      "conv_pw_4_relu (ReLU)        (None, 28, 28, 256)       0         \n",
      "_________________________________________________________________\n",
      "conv_dw_5 (DepthwiseConv2D)  (None, 28, 28, 256)       2304      \n",
      "_________________________________________________________________\n",
      "conv_dw_5_bn (BatchNormaliza (None, 28, 28, 256)       1024      \n",
      "_________________________________________________________________\n",
      "conv_dw_5_relu (ReLU)        (None, 28, 28, 256)       0         \n",
      "_________________________________________________________________\n",
      "conv_pw_5 (Conv2D)           (None, 28, 28, 256)       65536     \n",
      "_________________________________________________________________\n",
      "conv_pw_5_bn (BatchNormaliza (None, 28, 28, 256)       1024      \n",
      "_________________________________________________________________\n",
      "conv_pw_5_relu (ReLU)        (None, 28, 28, 256)       0         \n",
      "_________________________________________________________________\n",
      "conv_pad_6 (ZeroPadding2D)   (None, 29, 29, 256)       0         \n",
      "_________________________________________________________________\n",
      "conv_dw_6 (DepthwiseConv2D)  (None, 14, 14, 256)       2304      \n",
      "_________________________________________________________________\n",
      "conv_dw_6_bn (BatchNormaliza (None, 14, 14, 256)       1024      \n",
      "_________________________________________________________________\n",
      "conv_dw_6_relu (ReLU)        (None, 14, 14, 256)       0         \n",
      "_________________________________________________________________\n",
      "conv_pw_6 (Conv2D)           (None, 14, 14, 512)       131072    \n",
      "_________________________________________________________________\n",
      "conv_pw_6_bn (BatchNormaliza (None, 14, 14, 512)       2048      \n",
      "_________________________________________________________________\n",
      "conv_pw_6_relu (ReLU)        (None, 14, 14, 512)       0         \n",
      "_________________________________________________________________\n",
      "conv_dw_7 (DepthwiseConv2D)  (None, 14, 14, 512)       4608      \n",
      "_________________________________________________________________\n",
      "conv_dw_7_bn (BatchNormaliza (None, 14, 14, 512)       2048      \n",
      "_________________________________________________________________\n",
      "conv_dw_7_relu (ReLU)        (None, 14, 14, 512)       0         \n",
      "_________________________________________________________________\n",
      "conv_pw_7 (Conv2D)           (None, 14, 14, 512)       262144    \n",
      "_________________________________________________________________\n",
      "conv_pw_7_bn (BatchNormaliza (None, 14, 14, 512)       2048      \n",
      "_________________________________________________________________\n",
      "conv_pw_7_relu (ReLU)        (None, 14, 14, 512)       0         \n",
      "_________________________________________________________________\n",
      "conv_dw_8 (DepthwiseConv2D)  (None, 14, 14, 512)       4608      \n",
      "_________________________________________________________________\n",
      "conv_dw_8_bn (BatchNormaliza (None, 14, 14, 512)       2048      \n",
      "_________________________________________________________________\n",
      "conv_dw_8_relu (ReLU)        (None, 14, 14, 512)       0         \n",
      "_________________________________________________________________\n",
      "conv_pw_8 (Conv2D)           (None, 14, 14, 512)       262144    \n",
      "_________________________________________________________________\n",
      "conv_pw_8_bn (BatchNormaliza (None, 14, 14, 512)       2048      \n",
      "_________________________________________________________________\n",
      "conv_pw_8_relu (ReLU)        (None, 14, 14, 512)       0         \n",
      "_________________________________________________________________\n",
      "conv_dw_9 (DepthwiseConv2D)  (None, 14, 14, 512)       4608      \n",
      "_________________________________________________________________\n",
      "conv_dw_9_bn (BatchNormaliza (None, 14, 14, 512)       2048      \n",
      "_________________________________________________________________\n",
      "conv_dw_9_relu (ReLU)        (None, 14, 14, 512)       0         \n",
      "_________________________________________________________________\n",
      "conv_pw_9 (Conv2D)           (None, 14, 14, 512)       262144    \n",
      "_________________________________________________________________\n",
      "conv_pw_9_bn (BatchNormaliza (None, 14, 14, 512)       2048      \n",
      "_________________________________________________________________\n",
      "conv_pw_9_relu (ReLU)        (None, 14, 14, 512)       0         \n",
      "_________________________________________________________________\n",
      "conv_dw_10 (DepthwiseConv2D) (None, 14, 14, 512)       4608      \n",
      "_________________________________________________________________\n",
      "conv_dw_10_bn (BatchNormaliz (None, 14, 14, 512)       2048      \n",
      "_________________________________________________________________\n",
      "conv_dw_10_relu (ReLU)       (None, 14, 14, 512)       0         \n",
      "_________________________________________________________________\n",
      "conv_pw_10 (Conv2D)          (None, 14, 14, 512)       262144    \n",
      "_________________________________________________________________\n",
      "conv_pw_10_bn (BatchNormaliz (None, 14, 14, 512)       2048      \n",
      "_________________________________________________________________\n",
      "conv_pw_10_relu (ReLU)       (None, 14, 14, 512)       0         \n",
      "_________________________________________________________________\n",
      "conv_dw_11 (DepthwiseConv2D) (None, 14, 14, 512)       4608      \n",
      "_________________________________________________________________\n",
      "conv_dw_11_bn (BatchNormaliz (None, 14, 14, 512)       2048      \n",
      "_________________________________________________________________\n",
      "conv_dw_11_relu (ReLU)       (None, 14, 14, 512)       0         \n",
      "_________________________________________________________________\n",
      "conv_pw_11 (Conv2D)          (None, 14, 14, 512)       262144    \n",
      "_________________________________________________________________\n",
      "conv_pw_11_bn (BatchNormaliz (None, 14, 14, 512)       2048      \n",
      "_________________________________________________________________\n",
      "conv_pw_11_relu (ReLU)       (None, 14, 14, 512)       0         \n",
      "_________________________________________________________________\n",
      "conv_pad_12 (ZeroPadding2D)  (None, 15, 15, 512)       0         \n",
      "_________________________________________________________________\n",
      "conv_dw_12 (DepthwiseConv2D) (None, 7, 7, 512)         4608      \n",
      "_________________________________________________________________\n",
      "conv_dw_12_bn (BatchNormaliz (None, 7, 7, 512)         2048      \n",
      "_________________________________________________________________\n",
      "conv_dw_12_relu (ReLU)       (None, 7, 7, 512)         0         \n",
      "_________________________________________________________________\n",
      "conv_pw_12 (Conv2D)          (None, 7, 7, 1024)        524288    \n",
      "_________________________________________________________________\n",
      "conv_pw_12_bn (BatchNormaliz (None, 7, 7, 1024)        4096      \n",
      "_________________________________________________________________\n",
      "conv_pw_12_relu (ReLU)       (None, 7, 7, 1024)        0         \n",
      "_________________________________________________________________\n",
      "conv_dw_13 (DepthwiseConv2D) (None, 7, 7, 1024)        9216      \n",
      "_________________________________________________________________\n",
      "conv_dw_13_bn (BatchNormaliz (None, 7, 7, 1024)        4096      \n",
      "_________________________________________________________________\n",
      "conv_dw_13_relu (ReLU)       (None, 7, 7, 1024)        0         \n",
      "_________________________________________________________________\n",
      "conv_pw_13 (Conv2D)          (None, 7, 7, 1024)        1048576   \n",
      "_________________________________________________________________\n",
      "conv_pw_13_bn (BatchNormaliz (None, 7, 7, 1024)        4096      \n",
      "_________________________________________________________________\n",
      "conv_pw_13_relu (ReLU)       (None, 7, 7, 1024)        0         \n",
      "_________________________________________________________________\n",
      "global_average_pooling2d_2 ( (None, 1024)              0         \n",
      "_________________________________________________________________\n",
      "dense_12 (Dense)             (None, 1024)              1049600   \n",
      "_________________________________________________________________\n",
      "dropout_5 (Dropout)          (None, 1024)              0         \n",
      "_________________________________________________________________\n",
      "dense_13 (Dense)             (None, 1024)              1049600   \n",
      "_________________________________________________________________\n",
      "dropout_6 (Dropout)          (None, 1024)              0         \n",
      "_________________________________________________________________\n",
      "dense_14 (Dense)             (None, 256)               262400    \n",
      "_________________________________________________________________\n",
      "dense_15 (Dense)             (None, 2)                 514       \n",
      "=================================================================\n",
      "Total params: 5,590,978\n",
      "Trainable params: 5,569,090\n",
      "Non-trainable params: 21,888\n",
      "_________________________________________________________________\n"
     ]
    }
   ],
   "source": [
    "# verify changes\n",
    "model.summary()"
   ]
  },
  {
   "cell_type": "code",
   "execution_count": 144,
   "metadata": {},
   "outputs": [],
   "source": [
    "# This cell and the one below is to control which \n",
    "# layers to be freezed and which to be trained\n",
    "for layer in model.layers[:]:\n",
    "    layer.trainable = False"
   ]
  },
  {
   "cell_type": "code",
   "execution_count": 145,
   "metadata": {},
   "outputs": [],
   "source": [
    "for layer in model.layers[:-50]:\n",
    "    layer.trainable = True"
   ]
  },
  {
   "cell_type": "code",
   "execution_count": 146,
   "metadata": {
    "colab": {},
    "colab_type": "code",
    "id": "FcfmjC7JxvfQ"
   },
   "outputs": [],
   "source": [
    "# compile the model\n",
    "model.compile(Adam(), loss='categorical_crossentropy', metrics=['accuracy'])"
   ]
  },
  {
   "cell_type": "code",
   "execution_count": 147,
   "metadata": {
    "colab": {
     "base_uri": "https://localhost:8080/",
     "height": 178
    },
    "colab_type": "code",
    "id": "ALFJCPQGxv3w",
    "outputId": "879884f1-5425-4b84-a0f9-bdf2ddb2314a"
   },
   "outputs": [
    {
     "name": "stdout",
     "output_type": "stream",
     "text": [
      "Epoch 1/10\n",
      " - 15s - loss: 0.6371 - acc: 0.6724 - val_loss: 0.7454 - val_acc: 0.5790\n",
      "Epoch 2/10\n",
      " - 9s - loss: 0.6002 - acc: 0.6902 - val_loss: 0.6562 - val_acc: 0.6565\n",
      "Epoch 3/10\n",
      " - 9s - loss: 0.5721 - acc: 0.7301 - val_loss: 0.7175 - val_acc: 0.5897\n",
      "Epoch 4/10\n",
      " - 9s - loss: 0.5685 - acc: 0.7417 - val_loss: 1.0053 - val_acc: 0.5645\n",
      "Epoch 5/10\n",
      " - 9s - loss: 0.5433 - acc: 0.7650 - val_loss: 0.7555 - val_acc: 0.6339\n",
      "Epoch 6/10\n",
      " - 9s - loss: 0.5532 - acc: 0.7577 - val_loss: 0.7730 - val_acc: 0.5927\n",
      "Epoch 7/10\n",
      " - 9s - loss: 0.5168 - acc: 0.7963 - val_loss: 0.7149 - val_acc: 0.6854\n",
      "Epoch 8/10\n",
      " - 9s - loss: 0.5164 - acc: 0.8086 - val_loss: 0.8026 - val_acc: 0.7008\n",
      "Epoch 9/10\n",
      " - 9s - loss: 0.5082 - acc: 0.8068 - val_loss: 0.6404 - val_acc: 0.7653\n",
      "Epoch 10/10\n",
      " - 9s - loss: 0.5199 - acc: 0.8037 - val_loss: 0.5961 - val_acc: 0.7661\n"
     ]
    },
    {
     "data": {
      "text/plain": [
       "<keras.callbacks.History at 0x7f23a7be6ef0>"
      ]
     },
     "execution_count": 147,
     "metadata": {},
     "output_type": "execute_result"
    }
   ],
   "source": [
    "# start training\n",
    "model.fit_generator(train_batches, steps_per_epoch=163, \n",
    "                    validation_data=valid_batches, validation_steps=127, epochs=10, verbose=2)\n"
   ]
  },
  {
   "cell_type": "code",
   "execution_count": 158,
   "metadata": {
    "colab": {},
    "colab_type": "code",
    "id": "en57h8I7xvcO"
   },
   "outputs": [],
   "source": [
    "# Get the labels\n",
    "test_labels = test_batches.classes\n",
    "# Rest the cursor to the start of the test set befor testing\n",
    "test_batches.reset()"
   ]
  },
  {
   "cell_type": "code",
   "execution_count": 159,
   "metadata": {
    "colab": {
     "base_uri": "https://localhost:8080/",
     "height": 33
    },
    "colab_type": "code",
    "id": "l1soDXALWXJO",
    "outputId": "9d6c866b-76b3-4072-9ef8-4ae5578368ad"
   },
   "outputs": [
    {
     "name": "stdout",
     "output_type": "stream",
     "text": [
      "29/29 [==============================] - 3s 94ms/step\n"
     ]
    }
   ],
   "source": [
    "# Test the model on the test set\n",
    "predictions = model.predict_generator(test_batches, steps=29, verbose=1)\n"
   ]
  },
  {
   "cell_type": "code",
   "execution_count": 160,
   "metadata": {
    "colab": {},
    "colab_type": "code",
    "id": "J54jlDDfWiEh"
   },
   "outputs": [],
   "source": [
    "# Prepare the confusion matrix\n",
    "cm = confusion_matrix(test_labels, predictions.argmax(axis=1))"
   ]
  },
  {
   "cell_type": "code",
   "execution_count": 161,
   "metadata": {
    "colab": {
     "base_uri": "https://localhost:8080/",
     "height": 33
    },
    "colab_type": "code",
    "id": "RkaWuMqdymtu",
    "outputId": "b45dda23-0d20-49bd-c634-cb52b7740b8a"
   },
   "outputs": [
    {
     "data": {
      "text/plain": [
       "{'negative': 0, 'positive': 1}"
      ]
     },
     "execution_count": 161,
     "metadata": {},
     "output_type": "execute_result"
    }
   ],
   "source": [
    "# check the labels with thier indices\n",
    "test_batches.class_indices"
   ]
  },
  {
   "cell_type": "code",
   "execution_count": 162,
   "metadata": {
    "colab": {
     "base_uri": "https://localhost:8080/",
     "height": 361
    },
    "colab_type": "code",
    "id": "o4B3lbOFymz9",
    "outputId": "3c453989-8725-46e4-bdd9-8757a9d715ac"
   },
   "outputs": [
    {
     "name": "stdout",
     "output_type": "stream",
     "text": [
      "Confusion matrix, without normalization\n",
      "[[124  24]\n",
      " [ 54  86]]\n"
     ]
    },
    {
     "data": {
      "image/png": "[encoded data removed]",
      "text/plain": [
       "<Figure size 432x288 with 2 Axes>"
      ]
     },
     "metadata": {
      "needs_background": "light"
     },
     "output_type": "display_data"
    }
   ],
   "source": [
    "# show the confusion matrix\n",
    "cm_plot_labels = ['negative','positive']\n",
    "plot_confusion_matrix(cm, cm_plot_labels, title='Confusion Matrix')"
   ]
  },
  {
   "cell_type": "code",
   "execution_count": 163,
   "metadata": {},
   "outputs": [
    {
     "name": "stdout",
     "output_type": "stream",
     "text": [
      "Accuracy=  72.91666666666667  %\n"
     ]
    }
   ],
   "source": [
    "# The overall accuracy of the model\n",
    "print('Accuracy= ',(cm[0][0]+cm[1][1])*100/(cm[0][0]+cm[1][1]+cm[0][1]+cm[1][0]),' %')"
   ]
  },
  {
   "cell_type": "code",
   "execution_count": 164,
   "metadata": {},
   "outputs": [],
   "source": [
    "# Prepare the images for (TEST ON STUDY LEVEL)\n",
    "def prepare_image(file):\n",
    "    img_path = ''\n",
    "    img = image.load_img(file, target_size=(224, 224))\n",
    "    img_array = image.img_to_array(img)\n",
    "    img_array_expanded_dims = np.expand_dims(img_array, axis=0)\n",
    "    return keras.applications.mobilenet.preprocess_input(img_array_expanded_dims)"
   ]
  },
  {
   "cell_type": "code",
   "execution_count": 165,
   "metadata": {},
   "outputs": [
    {
     "name": "stdout",
     "output_type": "stream",
     "text": [
      "MURA-v1.1/valid/XR_HUMERUS/patient11577/study1_negative/image2.png\n",
      "MURA-v1.1/valid/XR_HUMERUS/patient11577/study1_negative/image1.png\n",
      "MURA-v1.1/valid/XR_HUMERUS/patient11691/study1_negative/image2.png\n",
      "MURA-v1.1/valid/XR_HUMERUS/patient11691/study1_negative/image1.png\n",
      "MURA-v1.1/valid/XR_HUMERUS/patient11662/study1_negative/image2.png\n",
      "MURA-v1.1/valid/XR_HUMERUS/patient11662/study1_negative/image1.png\n",
      "MURA-v1.1/valid/XR_HUMERUS/patient11702/study1_negative/image2.png\n",
      "MURA-v1.1/valid/XR_HUMERUS/patient11702/study1_negative/image1.png\n",
      "MURA-v1.1/valid/XR_HUMERUS/patient11686/study1_negative/image4.png\n",
      "MURA-v1.1/valid/XR_HUMERUS/patient11686/study1_negative/image3.png\n",
      "MURA-v1.1/valid/XR_HUMERUS/patient11686/study1_negative/image2.png\n",
      "MURA-v1.1/valid/XR_HUMERUS/patient11686/study1_negative/image1.png\n",
      "MURA-v1.1/valid/XR_HUMERUS/patient11694/study1_negative/image3.png\n",
      "MURA-v1.1/valid/XR_HUMERUS/patient11694/study1_negative/image2.png\n",
      "MURA-v1.1/valid/XR_HUMERUS/patient11694/study1_negative/image1.png\n",
      "MURA-v1.1/valid/XR_HUMERUS/patient11672/study1_negative/image2.png\n",
      "MURA-v1.1/valid/XR_HUMERUS/patient11672/study1_negative/image1.png\n",
      "MURA-v1.1/valid/XR_HUMERUS/patient11396/study1_negative/image2.png\n",
      "MURA-v1.1/valid/XR_HUMERUS/patient11396/study1_negative/image1.png\n",
      "MURA-v1.1/valid/XR_HUMERUS/patient11692/study1_negative/image2.png\n",
      "MURA-v1.1/valid/XR_HUMERUS/patient11692/study1_negative/image1.png\n",
      "MURA-v1.1/valid/XR_HUMERUS/patient11652/study1_positive/image2.png\n",
      "MURA-v1.1/valid/XR_HUMERUS/patient11652/study1_positive/image1.png\n",
      "MURA-v1.1/valid/XR_HUMERUS/patient11414/study1_positive/image2.png\n",
      "MURA-v1.1/valid/XR_HUMERUS/patient11414/study1_positive/image1.png\n",
      "MURA-v1.1/valid/XR_HUMERUS/patient11682/study1_negative/image4.png\n",
      "MURA-v1.1/valid/XR_HUMERUS/patient11682/study1_negative/image3.png\n",
      "MURA-v1.1/valid/XR_HUMERUS/patient11682/study1_negative/image2.png\n",
      "MURA-v1.1/valid/XR_HUMERUS/patient11682/study1_negative/image1.png\n",
      "MURA-v1.1/valid/XR_HUMERUS/patient11221/study1_negative/image3.png\n",
      "MURA-v1.1/valid/XR_HUMERUS/patient11221/study1_negative/image2.png\n",
      "MURA-v1.1/valid/XR_HUMERUS/patient11221/study1_negative/image1.png\n",
      "MURA-v1.1/valid/XR_HUMERUS/patient11665/study1_negative/image2.png\n",
      "MURA-v1.1/valid/XR_HUMERUS/patient11665/study1_negative/image1.png\n",
      "MURA-v1.1/valid/XR_HUMERUS/patient11623/study1_positive/image1.png\n",
      "MURA-v1.1/valid/XR_HUMERUS/patient11619/study1_positive/image2.png\n",
      "MURA-v1.1/valid/XR_HUMERUS/patient11619/study1_positive/image1.png\n",
      "MURA-v1.1/valid/XR_HUMERUS/patient11681/study1_negative/image2.png\n",
      "MURA-v1.1/valid/XR_HUMERUS/patient11681/study1_negative/image1.png\n",
      "MURA-v1.1/valid/XR_HUMERUS/patient11680/study1_negative/image2.png\n",
      "MURA-v1.1/valid/XR_HUMERUS/patient11680/study1_negative/image1.png\n",
      "MURA-v1.1/valid/XR_HUMERUS/patient11633/study1_positive/image2.png\n",
      "MURA-v1.1/valid/XR_HUMERUS/patient11633/study1_positive/image1.png\n",
      "MURA-v1.1/valid/XR_HUMERUS/patient11699/study1_negative/image2.png\n",
      "MURA-v1.1/valid/XR_HUMERUS/patient11699/study1_negative/image1.png\n",
      "MURA-v1.1/valid/XR_HUMERUS/patient11584/study1_negative/image3.png\n",
      "MURA-v1.1/valid/XR_HUMERUS/patient11584/study1_negative/image2.png\n",
      "MURA-v1.1/valid/XR_HUMERUS/patient11584/study1_negative/image1.png\n",
      "MURA-v1.1/valid/XR_HUMERUS/patient11630/study1_positive/image2.png\n",
      "MURA-v1.1/valid/XR_HUMERUS/patient11630/study1_positive/image1.png\n",
      "MURA-v1.1/valid/XR_HUMERUS/patient11676/study1_negative/image2.png\n",
      "MURA-v1.1/valid/XR_HUMERUS/patient11676/study1_negative/image1.png\n",
      "MURA-v1.1/valid/XR_HUMERUS/patient11622/study1_positive/image2.png\n",
      "MURA-v1.1/valid/XR_HUMERUS/patient11622/study1_positive/image1.png\n",
      "MURA-v1.1/valid/XR_HUMERUS/patient11640/study1_positive/image2.png\n",
      "MURA-v1.1/valid/XR_HUMERUS/patient11640/study1_positive/image1.png\n",
      "MURA-v1.1/valid/XR_HUMERUS/patient11550/study1_negative/image2.png\n",
      "MURA-v1.1/valid/XR_HUMERUS/patient11550/study1_negative/image1.png\n",
      "MURA-v1.1/valid/XR_HUMERUS/patient11611/study1_positive/image2.png\n",
      "MURA-v1.1/valid/XR_HUMERUS/patient11611/study1_positive/image1.png\n",
      "MURA-v1.1/valid/XR_HUMERUS/patient11670/study1_negative/image2.png\n",
      "MURA-v1.1/valid/XR_HUMERUS/patient11670/study1_negative/image1.png\n",
      "MURA-v1.1/valid/XR_HUMERUS/patient11639/study1_positive/image2.png\n",
      "MURA-v1.1/valid/XR_HUMERUS/patient11639/study1_positive/image1.png\n",
      "MURA-v1.1/valid/XR_HUMERUS/patient11378/study1_negative/image2.png\n",
      "MURA-v1.1/valid/XR_HUMERUS/patient11378/study1_negative/image1.png\n",
      "MURA-v1.1/valid/XR_HUMERUS/patient11610/study1_positive/image2.png\n",
      "MURA-v1.1/valid/XR_HUMERUS/patient11610/study1_positive/image1.png\n",
      "MURA-v1.1/valid/XR_HUMERUS/patient11650/study1_positive/image3.png\n",
      "MURA-v1.1/valid/XR_HUMERUS/patient11650/study1_positive/image2.png\n",
      "MURA-v1.1/valid/XR_HUMERUS/patient11650/study1_positive/image1.png\n",
      "MURA-v1.1/valid/XR_HUMERUS/patient11612/study1_positive/image2.png\n",
      "MURA-v1.1/valid/XR_HUMERUS/patient11612/study1_positive/image1.png\n",
      "MURA-v1.1/valid/XR_HUMERUS/patient11641/study2_positive/image2.png\n",
      "MURA-v1.1/valid/XR_HUMERUS/patient11641/study2_positive/image1.png\n",
      "MURA-v1.1/valid/XR_HUMERUS/patient11641/study1_positive/image2.png\n",
      "MURA-v1.1/valid/XR_HUMERUS/patient11641/study1_positive/image1.png\n",
      "MURA-v1.1/valid/XR_HUMERUS/patient11631/study1_positive/image2.png\n",
      "MURA-v1.1/valid/XR_HUMERUS/patient11631/study1_positive/image1.png\n",
      "MURA-v1.1/valid/XR_HUMERUS/patient11626/study1_positive/image2.png\n",
      "MURA-v1.1/valid/XR_HUMERUS/patient11626/study1_positive/image1.png\n",
      "MURA-v1.1/valid/XR_HUMERUS/patient11679/study1_negative/image4.png\n",
      "MURA-v1.1/valid/XR_HUMERUS/patient11679/study1_negative/image3.png\n",
      "MURA-v1.1/valid/XR_HUMERUS/patient11679/study1_negative/image2.png\n",
      "MURA-v1.1/valid/XR_HUMERUS/patient11679/study1_negative/image1.png\n",
      "MURA-v1.1/valid/XR_HUMERUS/patient11621/study1_positive/image2.png\n",
      "MURA-v1.1/valid/XR_HUMERUS/patient11621/study1_positive/image1.png\n",
      "MURA-v1.1/valid/XR_HUMERUS/patient11311/study1_positive/image2.png\n",
      "MURA-v1.1/valid/XR_HUMERUS/patient11311/study1_positive/image1.png\n",
      "MURA-v1.1/valid/XR_HUMERUS/patient11658/study1_positive/image2.png\n",
      "MURA-v1.1/valid/XR_HUMERUS/patient11658/study1_positive/image1.png\n",
      "MURA-v1.1/valid/XR_HUMERUS/patient11216/study1_negative/image2.png\n",
      "MURA-v1.1/valid/XR_HUMERUS/patient11216/study1_negative/image1.png\n",
      "MURA-v1.1/valid/XR_HUMERUS/patient11353/study1_negative/image2.png\n",
      "MURA-v1.1/valid/XR_HUMERUS/patient11353/study1_negative/image1.png\n",
      "MURA-v1.1/valid/XR_HUMERUS/patient11693/study1_negative/image2.png\n",
      "MURA-v1.1/valid/XR_HUMERUS/patient11693/study1_negative/image1.png\n",
      "MURA-v1.1/valid/XR_HUMERUS/patient11655/study1_positive/image2.png\n",
      "MURA-v1.1/valid/XR_HUMERUS/patient11655/study1_positive/image1.png\n",
      "MURA-v1.1/valid/XR_HUMERUS/patient11620/study1_positive/image2.png\n",
      "MURA-v1.1/valid/XR_HUMERUS/patient11620/study1_positive/image1.png\n",
      "MURA-v1.1/valid/XR_HUMERUS/patient11683/study1_negative/image2.png\n",
      "MURA-v1.1/valid/XR_HUMERUS/patient11683/study1_negative/image1.png\n",
      "MURA-v1.1/valid/XR_HUMERUS/patient11651/study1_positive/image3.png\n",
      "MURA-v1.1/valid/XR_HUMERUS/patient11651/study1_positive/image2.png\n",
      "MURA-v1.1/valid/XR_HUMERUS/patient11651/study1_positive/image1.png\n",
      "MURA-v1.1/valid/XR_HUMERUS/patient11617/study1_positive/image2.png\n",
      "MURA-v1.1/valid/XR_HUMERUS/patient11617/study1_positive/image1.png\n",
      "MURA-v1.1/valid/XR_HUMERUS/patient11646/study1_positive/image2.png\n",
      "MURA-v1.1/valid/XR_HUMERUS/patient11646/study1_positive/image1.png\n",
      "MURA-v1.1/valid/XR_HUMERUS/patient11656/study1_positive/image2.png\n",
      "MURA-v1.1/valid/XR_HUMERUS/patient11656/study1_positive/image1.png\n",
      "MURA-v1.1/valid/XR_HUMERUS/patient11659/study1_positive/image5.png\n",
      "MURA-v1.1/valid/XR_HUMERUS/patient11659/study1_positive/image4.png\n",
      "MURA-v1.1/valid/XR_HUMERUS/patient11659/study1_positive/image3.png\n",
      "MURA-v1.1/valid/XR_HUMERUS/patient11659/study1_positive/image2.png\n",
      "MURA-v1.1/valid/XR_HUMERUS/patient11659/study1_positive/image1.png\n",
      "MURA-v1.1/valid/XR_HUMERUS/patient11701/study1_negative/image2.png\n",
      "MURA-v1.1/valid/XR_HUMERUS/patient11701/study1_negative/image1.png\n",
      "MURA-v1.1/valid/XR_HUMERUS/patient11321/study1_negative/image2.png\n",
      "MURA-v1.1/valid/XR_HUMERUS/patient11321/study1_negative/image1.png\n",
      "MURA-v1.1/valid/XR_HUMERUS/patient11668/study1_negative/image2.png\n",
      "MURA-v1.1/valid/XR_HUMERUS/patient11668/study1_negative/image1.png\n",
      "MURA-v1.1/valid/XR_HUMERUS/patient11690/study1_negative/image2.png\n",
      "MURA-v1.1/valid/XR_HUMERUS/patient11690/study1_negative/image1.png\n",
      "MURA-v1.1/valid/XR_HUMERUS/patient11635/study1_positive/image2.png\n",
      "MURA-v1.1/valid/XR_HUMERUS/patient11635/study1_positive/image1.png\n",
      "MURA-v1.1/valid/XR_HUMERUS/patient11339/study1_negative/image2.png\n",
      "MURA-v1.1/valid/XR_HUMERUS/patient11339/study1_negative/image1.png\n",
      "MURA-v1.1/valid/XR_HUMERUS/patient11257/study1_negative/image2.png\n",
      "MURA-v1.1/valid/XR_HUMERUS/patient11257/study1_negative/image1.png\n",
      "MURA-v1.1/valid/XR_HUMERUS/patient11614/study1_positive/image2.png\n"
     ]
    },
    {
     "name": "stdout",
     "output_type": "stream",
     "text": [
      "MURA-v1.1/valid/XR_HUMERUS/patient11614/study1_positive/image1.png\n",
      "MURA-v1.1/valid/XR_HUMERUS/patient11667/study1_negative/image3.png\n",
      "MURA-v1.1/valid/XR_HUMERUS/patient11667/study1_negative/image2.png\n",
      "MURA-v1.1/valid/XR_HUMERUS/patient11667/study1_negative/image1.png\n",
      "MURA-v1.1/valid/XR_HUMERUS/patient11674/study1_negative/image2.png\n",
      "MURA-v1.1/valid/XR_HUMERUS/patient11674/study1_negative/image1.png\n",
      "MURA-v1.1/valid/XR_HUMERUS/patient11666/study1_negative/image3.png\n",
      "MURA-v1.1/valid/XR_HUMERUS/patient11666/study1_negative/image2.png\n",
      "MURA-v1.1/valid/XR_HUMERUS/patient11666/study1_negative/image1.png\n",
      "MURA-v1.1/valid/XR_HUMERUS/patient11616/study1_positive/image2.png\n",
      "MURA-v1.1/valid/XR_HUMERUS/patient11616/study1_positive/image1.png\n",
      "MURA-v1.1/valid/XR_HUMERUS/patient11251/study1_negative/image2.png\n",
      "MURA-v1.1/valid/XR_HUMERUS/patient11251/study1_negative/image1.png\n",
      "MURA-v1.1/valid/XR_HUMERUS/patient11653/study1_positive/image2.png\n",
      "MURA-v1.1/valid/XR_HUMERUS/patient11653/study1_positive/image1.png\n",
      "MURA-v1.1/valid/XR_HUMERUS/patient11609/study1_positive/image1.png\n",
      "MURA-v1.1/valid/XR_HUMERUS/patient11411/study1_positive/image2.png\n",
      "MURA-v1.1/valid/XR_HUMERUS/patient11411/study1_positive/image1.png\n",
      "MURA-v1.1/valid/XR_HUMERUS/patient11556/study1_positive/image2.png\n",
      "MURA-v1.1/valid/XR_HUMERUS/patient11556/study1_positive/image1.png\n",
      "MURA-v1.1/valid/XR_HUMERUS/patient11700/study1_negative/image2.png\n",
      "MURA-v1.1/valid/XR_HUMERUS/patient11700/study1_negative/image1.png\n",
      "MURA-v1.1/valid/XR_HUMERUS/patient11648/study1_positive/image3.png\n",
      "MURA-v1.1/valid/XR_HUMERUS/patient11648/study1_positive/image2.png\n",
      "MURA-v1.1/valid/XR_HUMERUS/patient11648/study1_positive/image1.png\n",
      "MURA-v1.1/valid/XR_HUMERUS/patient11579/study1_negative/image2.png\n",
      "MURA-v1.1/valid/XR_HUMERUS/patient11579/study1_negative/image1.png\n",
      "MURA-v1.1/valid/XR_HUMERUS/patient11225/study1_negative/image2.png\n",
      "MURA-v1.1/valid/XR_HUMERUS/patient11225/study1_negative/image1.png\n",
      "MURA-v1.1/valid/XR_HUMERUS/patient11393/study1_negative/image3.png\n",
      "MURA-v1.1/valid/XR_HUMERUS/patient11393/study1_negative/image2.png\n",
      "MURA-v1.1/valid/XR_HUMERUS/patient11393/study1_negative/image1.png\n",
      "MURA-v1.1/valid/XR_HUMERUS/patient11231/study1_positive/image2.png\n",
      "MURA-v1.1/valid/XR_HUMERUS/patient11231/study1_positive/image1.png\n",
      "MURA-v1.1/valid/XR_HUMERUS/patient11634/study1_positive/image2.png\n",
      "MURA-v1.1/valid/XR_HUMERUS/patient11634/study1_positive/image1.png\n",
      "MURA-v1.1/valid/XR_HUMERUS/patient11689/study1_negative/image2.png\n",
      "MURA-v1.1/valid/XR_HUMERUS/patient11689/study1_negative/image1.png\n",
      "MURA-v1.1/valid/XR_HUMERUS/patient11289/study1_negative/image2.png\n",
      "MURA-v1.1/valid/XR_HUMERUS/patient11289/study1_negative/image1.png\n",
      "MURA-v1.1/valid/XR_HUMERUS/patient11627/study1_positive/image1.png\n",
      "MURA-v1.1/valid/XR_HUMERUS/patient11695/study1_negative/image2.png\n",
      "MURA-v1.1/valid/XR_HUMERUS/patient11695/study1_negative/image1.png\n",
      "MURA-v1.1/valid/XR_HUMERUS/patient11663/study1_negative/image2.png\n",
      "MURA-v1.1/valid/XR_HUMERUS/patient11663/study1_negative/image1.png\n",
      "MURA-v1.1/valid/XR_HUMERUS/patient11654/study1_positive/image2.png\n",
      "MURA-v1.1/valid/XR_HUMERUS/patient11654/study1_positive/image1.png\n",
      "MURA-v1.1/valid/XR_HUMERUS/patient11685/study1_negative/image2.png\n",
      "MURA-v1.1/valid/XR_HUMERUS/patient11685/study1_negative/image1.png\n",
      "MURA-v1.1/valid/XR_HUMERUS/patient11657/study1_positive/image2.png\n",
      "MURA-v1.1/valid/XR_HUMERUS/patient11657/study1_positive/image1.png\n",
      "MURA-v1.1/valid/XR_HUMERUS/patient11628/study1_positive/image2.png\n",
      "MURA-v1.1/valid/XR_HUMERUS/patient11628/study1_positive/image1.png\n",
      "MURA-v1.1/valid/XR_HUMERUS/patient11678/study1_negative/image2.png\n",
      "MURA-v1.1/valid/XR_HUMERUS/patient11678/study1_negative/image1.png\n",
      "MURA-v1.1/valid/XR_HUMERUS/patient11673/study1_negative/image2.png\n",
      "MURA-v1.1/valid/XR_HUMERUS/patient11673/study1_negative/image1.png\n",
      "MURA-v1.1/valid/XR_HUMERUS/patient11625/study1_positive/image2.png\n",
      "MURA-v1.1/valid/XR_HUMERUS/patient11625/study1_positive/image1.png\n",
      "MURA-v1.1/valid/XR_HUMERUS/patient11669/study1_negative/image2.png\n",
      "MURA-v1.1/valid/XR_HUMERUS/patient11669/study1_negative/image1.png\n",
      "MURA-v1.1/valid/XR_HUMERUS/patient11642/study1_positive/image2.png\n",
      "MURA-v1.1/valid/XR_HUMERUS/patient11642/study1_positive/image1.png\n",
      "MURA-v1.1/valid/XR_HUMERUS/patient11340/study1_negative/image2.png\n",
      "MURA-v1.1/valid/XR_HUMERUS/patient11340/study1_negative/image1.png\n",
      "MURA-v1.1/valid/XR_HUMERUS/patient11340/study2_negative/image1.png\n",
      "MURA-v1.1/valid/XR_HUMERUS/patient11687/study1_negative/image2.png\n",
      "MURA-v1.1/valid/XR_HUMERUS/patient11687/study1_negative/image1.png\n",
      "MURA-v1.1/valid/XR_HUMERUS/patient11352/study1_positive/image2.png\n",
      "MURA-v1.1/valid/XR_HUMERUS/patient11352/study1_positive/image1.png\n",
      "MURA-v1.1/valid/XR_HUMERUS/patient11684/study1_negative/image2.png\n",
      "MURA-v1.1/valid/XR_HUMERUS/patient11684/study1_negative/image1.png\n",
      "MURA-v1.1/valid/XR_HUMERUS/patient11643/study1_positive/image2.png\n",
      "MURA-v1.1/valid/XR_HUMERUS/patient11643/study1_positive/image1.png\n",
      "MURA-v1.1/valid/XR_HUMERUS/patient11636/study1_positive/image2.png\n",
      "MURA-v1.1/valid/XR_HUMERUS/patient11636/study1_positive/image1.png\n",
      "MURA-v1.1/valid/XR_HUMERUS/patient11660/study1_negative/image2.png\n",
      "MURA-v1.1/valid/XR_HUMERUS/patient11660/study1_negative/image1.png\n",
      "MURA-v1.1/valid/XR_HUMERUS/patient11560/study1_negative/image2.png\n",
      "MURA-v1.1/valid/XR_HUMERUS/patient11560/study1_negative/image1.png\n",
      "MURA-v1.1/valid/XR_HUMERUS/patient11391/study1_positive/image2.png\n",
      "MURA-v1.1/valid/XR_HUMERUS/patient11391/study1_positive/image1.png\n",
      "MURA-v1.1/valid/XR_HUMERUS/patient11697/study1_negative/image2.png\n",
      "MURA-v1.1/valid/XR_HUMERUS/patient11697/study1_negative/image1.png\n",
      "MURA-v1.1/valid/XR_HUMERUS/patient11200/study1_negative/image2.png\n",
      "MURA-v1.1/valid/XR_HUMERUS/patient11200/study1_negative/image1.png\n",
      "MURA-v1.1/valid/XR_HUMERUS/patient11615/study1_positive/image2.png\n",
      "MURA-v1.1/valid/XR_HUMERUS/patient11615/study1_positive/image1.png\n",
      "MURA-v1.1/valid/XR_HUMERUS/patient11214/study1_positive/image2.png\n",
      "MURA-v1.1/valid/XR_HUMERUS/patient11214/study1_positive/image1.png\n",
      "MURA-v1.1/valid/XR_HUMERUS/patient11649/study1_positive/image2.png\n",
      "MURA-v1.1/valid/XR_HUMERUS/patient11649/study1_positive/image1.png\n",
      "MURA-v1.1/valid/XR_HUMERUS/patient11624/study1_positive/image2.png\n",
      "MURA-v1.1/valid/XR_HUMERUS/patient11624/study1_positive/image1.png\n",
      "MURA-v1.1/valid/XR_HUMERUS/patient11671/study1_negative/image4.png\n",
      "MURA-v1.1/valid/XR_HUMERUS/patient11671/study1_negative/image3.png\n",
      "MURA-v1.1/valid/XR_HUMERUS/patient11671/study1_negative/image2.png\n",
      "MURA-v1.1/valid/XR_HUMERUS/patient11671/study1_negative/image1.png\n",
      "MURA-v1.1/valid/XR_HUMERUS/patient11485/study1_positive/image2.png\n",
      "MURA-v1.1/valid/XR_HUMERUS/patient11485/study1_positive/image1.png\n",
      "MURA-v1.1/valid/XR_HUMERUS/patient11248/study1_positive/image2.png\n",
      "MURA-v1.1/valid/XR_HUMERUS/patient11248/study1_positive/image1.png\n",
      "MURA-v1.1/valid/XR_HUMERUS/patient11637/study1_positive/image2.png\n",
      "MURA-v1.1/valid/XR_HUMERUS/patient11637/study1_positive/image1.png\n",
      "MURA-v1.1/valid/XR_HUMERUS/patient11629/study1_positive/image3.png\n",
      "MURA-v1.1/valid/XR_HUMERUS/patient11629/study1_positive/image2.png\n",
      "MURA-v1.1/valid/XR_HUMERUS/patient11629/study1_positive/image1.png\n",
      "MURA-v1.1/valid/XR_HUMERUS/patient11696/study1_negative/image2.png\n",
      "MURA-v1.1/valid/XR_HUMERUS/patient11696/study1_negative/image1.png\n",
      "MURA-v1.1/valid/XR_HUMERUS/patient11647/study1_positive/image2.png\n",
      "MURA-v1.1/valid/XR_HUMERUS/patient11647/study1_positive/image1.png\n",
      "MURA-v1.1/valid/XR_HUMERUS/patient11664/study1_negative/image2.png\n",
      "MURA-v1.1/valid/XR_HUMERUS/patient11664/study1_negative/image1.png\n",
      "MURA-v1.1/valid/XR_HUMERUS/patient11698/study1_negative/image2.png\n",
      "MURA-v1.1/valid/XR_HUMERUS/patient11698/study1_negative/image1.png\n",
      "MURA-v1.1/valid/XR_HUMERUS/patient11459/study1_negative/image2.png\n",
      "MURA-v1.1/valid/XR_HUMERUS/patient11459/study1_negative/image1.png\n",
      "MURA-v1.1/valid/XR_HUMERUS/patient11186/study1_positive/image2.png\n",
      "MURA-v1.1/valid/XR_HUMERUS/patient11186/study1_positive/image1.png\n",
      "MURA-v1.1/valid/XR_HUMERUS/patient11644/study1_positive/image2.png\n",
      "MURA-v1.1/valid/XR_HUMERUS/patient11644/study1_positive/image1.png\n",
      "MURA-v1.1/valid/XR_HUMERUS/patient11675/study1_negative/image2.png\n",
      "MURA-v1.1/valid/XR_HUMERUS/patient11675/study1_negative/image1.png\n",
      "MURA-v1.1/valid/XR_HUMERUS/patient11645/study1_positive/image2.png\n",
      "MURA-v1.1/valid/XR_HUMERUS/patient11645/study1_positive/image1.png\n",
      "MURA-v1.1/valid/XR_HUMERUS/patient11523/study1_negative/image1.png\n",
      "MURA-v1.1/valid/XR_HUMERUS/patient11618/study1_positive/image3.png\n",
      "MURA-v1.1/valid/XR_HUMERUS/patient11618/study1_positive/image2.png\n",
      "MURA-v1.1/valid/XR_HUMERUS/patient11618/study1_positive/image1.png\n",
      "MURA-v1.1/valid/XR_HUMERUS/patient11608/study1_positive/image2.png\n",
      "MURA-v1.1/valid/XR_HUMERUS/patient11608/study1_positive/image1.png\n",
      "MURA-v1.1/valid/XR_HUMERUS/patient11331/study1_negative/image2.png\n",
      "MURA-v1.1/valid/XR_HUMERUS/patient11331/study1_negative/image1.png\n",
      "MURA-v1.1/valid/XR_HUMERUS/patient11331/study2_negative/image2.png\n"
     ]
    },
    {
     "name": "stdout",
     "output_type": "stream",
     "text": [
      "MURA-v1.1/valid/XR_HUMERUS/patient11331/study2_negative/image1.png\n",
      "MURA-v1.1/valid/XR_HUMERUS/patient11688/study1_negative/image2.png\n",
      "MURA-v1.1/valid/XR_HUMERUS/patient11688/study1_negative/image1.png\n",
      "MURA-v1.1/valid/XR_HUMERUS/patient11313/study1_positive/image3.png\n",
      "MURA-v1.1/valid/XR_HUMERUS/patient11313/study1_positive/image2.png\n",
      "MURA-v1.1/valid/XR_HUMERUS/patient11313/study1_positive/image1.png\n",
      "MURA-v1.1/valid/XR_HUMERUS/patient11613/study1_positive/image2.png\n",
      "MURA-v1.1/valid/XR_HUMERUS/patient11613/study1_positive/image1.png\n",
      "MURA-v1.1/valid/XR_HUMERUS/patient11638/study1_positive/image2.png\n",
      "MURA-v1.1/valid/XR_HUMERUS/patient11638/study1_positive/image1.png\n",
      "MURA-v1.1/valid/XR_HUMERUS/patient11661/study1_negative/image2.png\n",
      "MURA-v1.1/valid/XR_HUMERUS/patient11661/study1_negative/image1.png\n",
      "MURA-v1.1/valid/XR_HUMERUS/patient11275/study1_negative/image2.png\n",
      "MURA-v1.1/valid/XR_HUMERUS/patient11275/study1_negative/image1.png\n",
      "MURA-v1.1/valid/XR_HUMERUS/patient11346/study1_positive/image2.png\n",
      "MURA-v1.1/valid/XR_HUMERUS/patient11346/study1_positive/image1.png\n",
      "MURA-v1.1/valid/XR_HUMERUS/patient11227/study1_positive/image2.png\n",
      "MURA-v1.1/valid/XR_HUMERUS/patient11227/study1_positive/image1.png\n",
      "MURA-v1.1/valid/XR_HUMERUS/patient11632/study1_positive/image2.png\n",
      "MURA-v1.1/valid/XR_HUMERUS/patient11632/study1_positive/image1.png\n",
      "MURA-v1.1/valid/XR_HUMERUS/patient11677/study1_negative/image2.png\n",
      "MURA-v1.1/valid/XR_HUMERUS/patient11677/study1_negative/image1.png\n"
     ]
    }
   ],
   "source": [
    "# Test the model on the study level:\n",
    "# 1. all the images in one study are gettting predicted indivisually\n",
    "# 2. the arithmatic mean of all the images in one study is taken to\n",
    "#    produce the prediction on the study level\n",
    "\n",
    "path='MURA-v1.1/valid/XR_HUMERUS/'\n",
    "img_count=0\n",
    "img_pos=0\n",
    "img_neg=0\n",
    "img_fpos=0\n",
    "img_fneg=0\n",
    "true_pos=0\n",
    "true_neg=0\n",
    "false_pos=0\n",
    "false_neg=0\n",
    "false_pos_lst=[]\n",
    "false_neg_lst=[]\n",
    "templst=[]\n",
    "\n",
    "for patient in os.listdir(path):\n",
    "    for study in os.listdir(path+patient):\n",
    "        total_pred=0\n",
    "        for img in os.listdir(path+patient+'/'+study):\n",
    "            img_count +=1\n",
    "            print(path+patient+'/'+study+'/'+img)\n",
    "            preprocessed_image = prepare_image(path+patient+'/'+study+'/'+img)\n",
    "            predictions = model.predict(preprocessed_image)\n",
    "            if predictions[0][1]>0.5 and study.split('_')[1] == 'positive':\n",
    "                img_pos += 1\n",
    "            elif predictions[0][1]<=0.5 and study.split('_')[1] == 'negative':\n",
    "                img_neg += 1\n",
    "            elif predictions[0][1]>0.5 and study.split('_')[1] != 'positive':\n",
    "                img_fpos += 1\n",
    "            else:\n",
    "                img_fneg += 1\n",
    "        \n",
    "            total_pred += predictions[0][1]\n",
    "        avg_pred = total_pred/len(os.listdir(path+patient+'/'+study))\n",
    "        if avg_pred <= 0.5:\n",
    "            abnorm_pred='negative'\n",
    "        else:\n",
    "            abnorm_pred='positive'\n",
    "            \n",
    "        if abnorm_pred == study.split('_')[1] == 'positive':\n",
    "            true_pos +=1\n",
    "        elif abnorm_pred == study.split('_')[1] == 'negative':\n",
    "            true_neg +=1\n",
    "        elif abnorm_pred != study.split('_')[1] == 'negative':\n",
    "            false_pos +=1\n",
    "            false_pos_lst.append(patient+'/'+study)\n",
    "        else:\n",
    "            false_neg +=1\n",
    "            false_neg_lst.append(patient+'/'+study)\n",
    "\n",
    "\n",
    "  \n",
    "  "
   ]
  },
  {
   "cell_type": "code",
   "execution_count": 167,
   "metadata": {},
   "outputs": [
    {
     "name": "stdout",
     "output_type": "stream",
     "text": [
      "Total number of images =  288\n",
      "True Positive =  86\n",
      "True Nigative=  124\n",
      "False Positive =  24\n",
      "False Nigative=  54\n",
      "Accuracy on IMAGE level = 72.91666666666667\n",
      "\n",
      "True Positive =  47\n",
      "True Nigative=  56\n",
      "False Positive =  12\n",
      "False Nigative=  20\n",
      "Accuracy on STUDY level = 76.29629629629629\n"
     ]
    }
   ],
   "source": [
    "## Testing on the original MURA Dataset\n",
    "\n",
    "print('Total number of images = ',img_count)\n",
    "print('True Positive = ',img_pos)\n",
    "print('True Nigative= ',img_neg)\n",
    "print('False Positive = ',img_fpos)\n",
    "print('False Nigative= ',img_fneg)\n",
    "print('Accuracy on IMAGE level =', 100*(img_pos+img_neg)/(img_pos+img_neg+img_fpos+img_fneg))\n",
    "print('')\n",
    "print('True Positive = ',true_pos)\n",
    "print('True Nigative= ',true_neg)\n",
    "print('False Positive = ',false_pos)\n",
    "print('False Nigative= ',false_neg)\n",
    "print('Accuracy on STUDY level =', 100*(true_neg+true_pos)/(true_neg+true_pos+false_neg+false_pos))"
   ]
  },
  {
   "cell_type": "code",
   "execution_count": 43,
   "metadata": {
    "colab": {},
    "colab_type": "code",
    "id": "QZzKLgs-ym8j"
   },
   "outputs": [],
   "source": [
    "#### SAVE MODEL ####\n",
    "\n",
    "model.save_weights(\"models/XR_HUMERUS.h5\")\n",
    "\n",
    "#Save the model architecture\n",
    "with open('models/architecture_XR_HUMERUS.json', 'w') as f:\n",
    "    f.write(model.to_json())"
   ]
  },
  {
   "cell_type": "code",
   "execution_count": null,
   "metadata": {
    "colab": {},
    "colab_type": "code",
    "id": "e0b4cKMhpYID"
   },
   "outputs": [],
   "source": []
  }
 ],
 "metadata": {
  "accelerator": "GPU",
  "colab": {
   "collapsed_sections": [],
   "name": "XR_WRIST attempt#2 with MobileNet.ipynb",
   "provenance": [],
   "version": "0.3.2"
  },
  "kernelspec": {
   "display_name": "Python 3",
   "language": "python",
   "name": "python3"
  },
  "language_info": {
   "codemirror_mode": {
    "name": "ipython",
    "version": 3
   },
   "file_extension": ".py",
   "mimetype": "text/x-python",
   "name": "python",
   "nbconvert_exporter": "python",
   "pygments_lexer": "ipython3",
   "version": "3.7.2"
  }
 },
 "nbformat": 4,
 "nbformat_minor": 1
}
