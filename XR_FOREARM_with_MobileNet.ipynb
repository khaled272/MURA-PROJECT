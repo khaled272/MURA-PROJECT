{
 "cells": [
  {
   "cell_type": "code",
   "execution_count": null,
   "metadata": {},
   "outputs": [],
   "source": [
    "# This code is to train a model to detect the abnormality \n",
    "# in the forearm xray."
   ]
  },
  {
   "cell_type": "code",
   "execution_count": 1,
   "metadata": {
    "colab": {
     "base_uri": "https://localhost:8080/",
     "height": 33
    },
    "colab_type": "code",
    "id": "A3Hge7IbpXbY",
    "outputId": "378ea428-17e0-45a1-d47e-7282157aeba1"
   },
   "outputs": [
    {
     "name": "stderr",
     "output_type": "stream",
     "text": [
      "Using TensorFlow backend.\n"
     ]
    }
   ],
   "source": [
    "import os\n",
    "import numpy as np\n",
    "import keras\n",
    "from keras import backend as K\n",
    "from keras.layers.core import Dense, Activation,Dropout\n",
    "from keras import regularizers\n",
    "from keras.optimizers import Adam, Adadelta\n",
    "from keras.metrics import categorical_crossentropy\n",
    "from keras.preprocessing.image import ImageDataGenerator\n",
    "from keras.preprocessing import image\n",
    "from keras.models import Model\n",
    "from keras.applications import imagenet_utils\n",
    "from sklearn.metrics import confusion_matrix\n",
    "import itertools\n",
    "import matplotlib.pyplot as plt\n",
    "%matplotlib inline"
   ]
  },
  {
   "cell_type": "code",
   "execution_count": 2,
   "metadata": {
    "colab": {},
    "colab_type": "code",
    "id": "vDbrkx1lpYKo"
   },
   "outputs": [],
   "source": [
    "train_path = 'XR_FOREARM/train'\n",
    "valid_path = 'XR_FOREARM/valid'\n",
    "test_path = 'XR_FOREARM/test'"
   ]
  },
  {
   "cell_type": "code",
   "execution_count": 3,
   "metadata": {
    "colab": {
     "base_uri": "https://localhost:8080/",
     "height": 67
    },
    "colab_type": "code",
    "id": "GGAEwJv1r8LU",
    "outputId": "7070b3d9-a680-45a5-8ed0-060b023719ec",
    "scrolled": true
   },
   "outputs": [
    {
     "name": "stdout",
     "output_type": "stream",
     "text": [
      "Found 1643 images belonging to 2 classes.\n",
      "Found 182 images belonging to 2 classes.\n",
      "Found 301 images belonging to 2 classes.\n"
     ]
    }
   ],
   "source": [
    "# Generate batches of tensor image data with real-time data augmentation. The data will be looped over (in batches)\n",
    "train_batches = ImageDataGenerator(preprocessing_function=keras.applications.mobilenet.preprocess_input).flow_from_directory(\n",
    "    train_path, target_size=(224,224), batch_size=10)\n",
    "valid_batches = ImageDataGenerator(preprocessing_function=keras.applications.mobilenet.preprocess_input).flow_from_directory(\n",
    "    valid_path, target_size=(224,224), batch_size=10)\n",
    "test_batches = ImageDataGenerator(preprocessing_function=keras.applications.mobilenet.preprocess_input).flow_from_directory(\n",
    "    test_path, target_size=(224,224), batch_size=10, shuffle=False)"
   ]
  },
  {
   "cell_type": "code",
   "execution_count": 4,
   "metadata": {
    "colab": {},
    "colab_type": "code",
    "id": "jzlXch-Nr787"
   },
   "outputs": [],
   "source": [
    "# Confusion matrix function\n",
    "def plot_confusion_matrix(cm, classes,\n",
    "                          normalize=False,\n",
    "                          title='Confusion matrix',\n",
    "                          cmap=plt.cm.Blues):\n",
    "    \"\"\"\n",
    "    This function prints and plots the confusion matrix.\n",
    "    Normalization can be applied by setting `normalize=True`.\n",
    "    \"\"\"\n",
    "    plt.imshow(cm, interpolation='nearest', cmap=cmap)\n",
    "    plt.title(title)\n",
    "    plt.colorbar()\n",
    "    tick_marks = np.arange(len(classes))\n",
    "    plt.xticks(tick_marks, classes, rotation=45)\n",
    "    plt.yticks(tick_marks, classes)\n",
    "\n",
    "    if normalize:\n",
    "        cm = cm.astype('float') / cm.sum(axis=1)[:, np.newaxis]\n",
    "        print(\"Normalized confusion matrix\")\n",
    "    else:\n",
    "        print('Confusion matrix, without normalization')\n",
    "\n",
    "    print(cm)\n",
    "\n",
    "    thresh = cm.max() / 2.\n",
    "    for i, j in itertools.product(range(cm.shape[0]), range(cm.shape[1])):\n",
    "        plt.text(j, i, cm[i, j],\n",
    "                 horizontalalignment=\"center\",\n",
    "                 color=\"white\" if cm[i, j] > thresh else \"black\")\n",
    "\n",
    "    plt.tight_layout()\n",
    "    plt.ylabel('True label')\n",
    "    plt.xlabel('Predicted label')"
   ]
  },
  {
   "cell_type": "code",
   "execution_count": 125,
   "metadata": {
    "colab": {},
    "colab_type": "code",
    "id": "KNjQnJOow91n"
   },
   "outputs": [],
   "source": [
    "#Set the model to be = MobileNet with trained weights transfered.\n",
    "mobile = keras.applications.mobilenet.MobileNet()"
   ]
  },
  {
   "cell_type": "code",
   "execution_count": 126,
   "metadata": {},
   "outputs": [],
   "source": [
    "# Modify the structure by removing the last 5 layers \n",
    "# and then adding and two dense layers with relu activation\n",
    "# dropout and one dense layer without dropout \n",
    "# and output layer with 7 neurons and softmax activation\n",
    "x = mobile.layers[-6].output\n",
    "predictions = Dense(2, activation='softmax')(x)\n",
    "model = Model(inputs=mobile.input, outputs=predictions)\n",
    "x = model.layers[-2].output\n",
    "x = Dense(1024, activation='relu')(x)\n",
    "x = Dropout(0.5)(x)\n",
    "x = Dense(1024, activation='relu')(x)\n",
    "x = Dropout(0.5)(x)\n",
    "x = Dense(256, activation='relu')(x)\n",
    "\n",
    "predictions = Dense(2, activation='softmax')(x)\n",
    "\n",
    "model = Model(inputs=model.input, outputs=predictions)"
   ]
  },
  {
   "cell_type": "code",
   "execution_count": 128,
   "metadata": {
    "scrolled": false
   },
   "outputs": [
    {
     "name": "stdout",
     "output_type": "stream",
     "text": [
      "_________________________________________________________________\n",
      "Layer (type)                 Output Shape              Param #   \n",
      "=================================================================\n",
      "input_5 (InputLayer)         (None, 224, 224, 3)       0         \n",
      "_________________________________________________________________\n",
      "conv1_pad (ZeroPadding2D)    (None, 225, 225, 3)       0         \n",
      "_________________________________________________________________\n",
      "conv1 (Conv2D)               (None, 112, 112, 32)      864       \n",
      "_________________________________________________________________\n",
      "conv1_bn (BatchNormalization (None, 112, 112, 32)      128       \n",
      "_________________________________________________________________\n",
      "conv1_relu (ReLU)            (None, 112, 112, 32)      0         \n",
      "_________________________________________________________________\n",
      "conv_dw_1 (DepthwiseConv2D)  (None, 112, 112, 32)      288       \n",
      "_________________________________________________________________\n",
      "conv_dw_1_bn (BatchNormaliza (None, 112, 112, 32)      128       \n",
      "_________________________________________________________________\n",
      "conv_dw_1_relu (ReLU)        (None, 112, 112, 32)      0         \n",
      "_________________________________________________________________\n",
      "conv_pw_1 (Conv2D)           (None, 112, 112, 64)      2048      \n",
      "_________________________________________________________________\n",
      "conv_pw_1_bn (BatchNormaliza (None, 112, 112, 64)      256       \n",
      "_________________________________________________________________\n",
      "conv_pw_1_relu (ReLU)        (None, 112, 112, 64)      0         \n",
      "_________________________________________________________________\n",
      "conv_pad_2 (ZeroPadding2D)   (None, 113, 113, 64)      0         \n",
      "_________________________________________________________________\n",
      "conv_dw_2 (DepthwiseConv2D)  (None, 56, 56, 64)        576       \n",
      "_________________________________________________________________\n",
      "conv_dw_2_bn (BatchNormaliza (None, 56, 56, 64)        256       \n",
      "_________________________________________________________________\n",
      "conv_dw_2_relu (ReLU)        (None, 56, 56, 64)        0         \n",
      "_________________________________________________________________\n",
      "conv_pw_2 (Conv2D)           (None, 56, 56, 128)       8192      \n",
      "_________________________________________________________________\n",
      "conv_pw_2_bn (BatchNormaliza (None, 56, 56, 128)       512       \n",
      "_________________________________________________________________\n",
      "conv_pw_2_relu (ReLU)        (None, 56, 56, 128)       0         \n",
      "_________________________________________________________________\n",
      "conv_dw_3 (DepthwiseConv2D)  (None, 56, 56, 128)       1152      \n",
      "_________________________________________________________________\n",
      "conv_dw_3_bn (BatchNormaliza (None, 56, 56, 128)       512       \n",
      "_________________________________________________________________\n",
      "conv_dw_3_relu (ReLU)        (None, 56, 56, 128)       0         \n",
      "_________________________________________________________________\n",
      "conv_pw_3 (Conv2D)           (None, 56, 56, 128)       16384     \n",
      "_________________________________________________________________\n",
      "conv_pw_3_bn (BatchNormaliza (None, 56, 56, 128)       512       \n",
      "_________________________________________________________________\n",
      "conv_pw_3_relu (ReLU)        (None, 56, 56, 128)       0         \n",
      "_________________________________________________________________\n",
      "conv_pad_4 (ZeroPadding2D)   (None, 57, 57, 128)       0         \n",
      "_________________________________________________________________\n",
      "conv_dw_4 (DepthwiseConv2D)  (None, 28, 28, 128)       1152      \n",
      "_________________________________________________________________\n",
      "conv_dw_4_bn (BatchNormaliza (None, 28, 28, 128)       512       \n",
      "_________________________________________________________________\n",
      "conv_dw_4_relu (ReLU)        (None, 28, 28, 128)       0         \n",
      "_________________________________________________________________\n",
      "conv_pw_4 (Conv2D)           (None, 28, 28, 256)       32768     \n",
      "_________________________________________________________________\n",
      "conv_pw_4_bn (BatchNormaliza (None, 28, 28, 256)       1024      \n",
      "_________________________________________________________________\n",
      "conv_pw_4_relu (ReLU)        (None, 28, 28, 256)       0         \n",
      "_________________________________________________________________\n",
      "conv_dw_5 (DepthwiseConv2D)  (None, 28, 28, 256)       2304      \n",
      "_________________________________________________________________\n",
      "conv_dw_5_bn (BatchNormaliza (None, 28, 28, 256)       1024      \n",
      "_________________________________________________________________\n",
      "conv_dw_5_relu (ReLU)        (None, 28, 28, 256)       0         \n",
      "_________________________________________________________________\n",
      "conv_pw_5 (Conv2D)           (None, 28, 28, 256)       65536     \n",
      "_________________________________________________________________\n",
      "conv_pw_5_bn (BatchNormaliza (None, 28, 28, 256)       1024      \n",
      "_________________________________________________________________\n",
      "conv_pw_5_relu (ReLU)        (None, 28, 28, 256)       0         \n",
      "_________________________________________________________________\n",
      "conv_pad_6 (ZeroPadding2D)   (None, 29, 29, 256)       0         \n",
      "_________________________________________________________________\n",
      "conv_dw_6 (DepthwiseConv2D)  (None, 14, 14, 256)       2304      \n",
      "_________________________________________________________________\n",
      "conv_dw_6_bn (BatchNormaliza (None, 14, 14, 256)       1024      \n",
      "_________________________________________________________________\n",
      "conv_dw_6_relu (ReLU)        (None, 14, 14, 256)       0         \n",
      "_________________________________________________________________\n",
      "conv_pw_6 (Conv2D)           (None, 14, 14, 512)       131072    \n",
      "_________________________________________________________________\n",
      "conv_pw_6_bn (BatchNormaliza (None, 14, 14, 512)       2048      \n",
      "_________________________________________________________________\n",
      "conv_pw_6_relu (ReLU)        (None, 14, 14, 512)       0         \n",
      "_________________________________________________________________\n",
      "conv_dw_7 (DepthwiseConv2D)  (None, 14, 14, 512)       4608      \n",
      "_________________________________________________________________\n",
      "conv_dw_7_bn (BatchNormaliza (None, 14, 14, 512)       2048      \n",
      "_________________________________________________________________\n",
      "conv_dw_7_relu (ReLU)        (None, 14, 14, 512)       0         \n",
      "_________________________________________________________________\n",
      "conv_pw_7 (Conv2D)           (None, 14, 14, 512)       262144    \n",
      "_________________________________________________________________\n",
      "conv_pw_7_bn (BatchNormaliza (None, 14, 14, 512)       2048      \n",
      "_________________________________________________________________\n",
      "conv_pw_7_relu (ReLU)        (None, 14, 14, 512)       0         \n",
      "_________________________________________________________________\n",
      "conv_dw_8 (DepthwiseConv2D)  (None, 14, 14, 512)       4608      \n",
      "_________________________________________________________________\n",
      "conv_dw_8_bn (BatchNormaliza (None, 14, 14, 512)       2048      \n",
      "_________________________________________________________________\n",
      "conv_dw_8_relu (ReLU)        (None, 14, 14, 512)       0         \n",
      "_________________________________________________________________\n",
      "conv_pw_8 (Conv2D)           (None, 14, 14, 512)       262144    \n",
      "_________________________________________________________________\n",
      "conv_pw_8_bn (BatchNormaliza (None, 14, 14, 512)       2048      \n",
      "_________________________________________________________________\n",
      "conv_pw_8_relu (ReLU)        (None, 14, 14, 512)       0         \n",
      "_________________________________________________________________\n",
      "conv_dw_9 (DepthwiseConv2D)  (None, 14, 14, 512)       4608      \n",
      "_________________________________________________________________\n",
      "conv_dw_9_bn (BatchNormaliza (None, 14, 14, 512)       2048      \n",
      "_________________________________________________________________\n",
      "conv_dw_9_relu (ReLU)        (None, 14, 14, 512)       0         \n",
      "_________________________________________________________________\n",
      "conv_pw_9 (Conv2D)           (None, 14, 14, 512)       262144    \n",
      "_________________________________________________________________\n",
      "conv_pw_9_bn (BatchNormaliza (None, 14, 14, 512)       2048      \n",
      "_________________________________________________________________\n",
      "conv_pw_9_relu (ReLU)        (None, 14, 14, 512)       0         \n",
      "_________________________________________________________________\n",
      "conv_dw_10 (DepthwiseConv2D) (None, 14, 14, 512)       4608      \n",
      "_________________________________________________________________\n",
      "conv_dw_10_bn (BatchNormaliz (None, 14, 14, 512)       2048      \n",
      "_________________________________________________________________\n",
      "conv_dw_10_relu (ReLU)       (None, 14, 14, 512)       0         \n",
      "_________________________________________________________________\n",
      "conv_pw_10 (Conv2D)          (None, 14, 14, 512)       262144    \n",
      "_________________________________________________________________\n",
      "conv_pw_10_bn (BatchNormaliz (None, 14, 14, 512)       2048      \n",
      "_________________________________________________________________\n",
      "conv_pw_10_relu (ReLU)       (None, 14, 14, 512)       0         \n",
      "_________________________________________________________________\n",
      "conv_dw_11 (DepthwiseConv2D) (None, 14, 14, 512)       4608      \n",
      "_________________________________________________________________\n",
      "conv_dw_11_bn (BatchNormaliz (None, 14, 14, 512)       2048      \n",
      "_________________________________________________________________\n",
      "conv_dw_11_relu (ReLU)       (None, 14, 14, 512)       0         \n",
      "_________________________________________________________________\n",
      "conv_pw_11 (Conv2D)          (None, 14, 14, 512)       262144    \n",
      "_________________________________________________________________\n",
      "conv_pw_11_bn (BatchNormaliz (None, 14, 14, 512)       2048      \n",
      "_________________________________________________________________\n",
      "conv_pw_11_relu (ReLU)       (None, 14, 14, 512)       0         \n",
      "_________________________________________________________________\n",
      "conv_pad_12 (ZeroPadding2D)  (None, 15, 15, 512)       0         \n",
      "_________________________________________________________________\n",
      "conv_dw_12 (DepthwiseConv2D) (None, 7, 7, 512)         4608      \n",
      "_________________________________________________________________\n",
      "conv_dw_12_bn (BatchNormaliz (None, 7, 7, 512)         2048      \n",
      "_________________________________________________________________\n",
      "conv_dw_12_relu (ReLU)       (None, 7, 7, 512)         0         \n",
      "_________________________________________________________________\n",
      "conv_pw_12 (Conv2D)          (None, 7, 7, 1024)        524288    \n",
      "_________________________________________________________________\n",
      "conv_pw_12_bn (BatchNormaliz (None, 7, 7, 1024)        4096      \n",
      "_________________________________________________________________\n",
      "conv_pw_12_relu (ReLU)       (None, 7, 7, 1024)        0         \n",
      "_________________________________________________________________\n",
      "conv_dw_13 (DepthwiseConv2D) (None, 7, 7, 1024)        9216      \n",
      "_________________________________________________________________\n",
      "conv_dw_13_bn (BatchNormaliz (None, 7, 7, 1024)        4096      \n",
      "_________________________________________________________________\n",
      "conv_dw_13_relu (ReLU)       (None, 7, 7, 1024)        0         \n",
      "_________________________________________________________________\n",
      "conv_pw_13 (Conv2D)          (None, 7, 7, 1024)        1048576   \n",
      "_________________________________________________________________\n",
      "conv_pw_13_bn (BatchNormaliz (None, 7, 7, 1024)        4096      \n",
      "_________________________________________________________________\n",
      "conv_pw_13_relu (ReLU)       (None, 7, 7, 1024)        0         \n",
      "_________________________________________________________________\n",
      "global_average_pooling2d_5 ( (None, 1024)              0         \n",
      "_________________________________________________________________\n",
      "dense_22 (Dense)             (None, 1024)              1049600   \n",
      "_________________________________________________________________\n",
      "dropout_9 (Dropout)          (None, 1024)              0         \n",
      "_________________________________________________________________\n",
      "dense_23 (Dense)             (None, 1024)              1049600   \n",
      "_________________________________________________________________\n",
      "dropout_10 (Dropout)         (None, 1024)              0         \n",
      "_________________________________________________________________\n",
      "dense_24 (Dense)             (None, 256)               262400    \n",
      "_________________________________________________________________\n",
      "dense_25 (Dense)             (None, 2)                 514       \n",
      "=================================================================\n",
      "Total params: 5,590,978\n",
      "Trainable params: 5,569,090\n",
      "Non-trainable params: 21,888\n",
      "_________________________________________________________________\n"
     ]
    }
   ],
   "source": [
    "# verify changes\n",
    "model.summary()"
   ]
  },
  {
   "cell_type": "code",
   "execution_count": 108,
   "metadata": {},
   "outputs": [],
   "source": [
    "# This cell and the one below is to control which \n",
    "# layers to be freezed and which to be trained\n",
    "for layer in model.layers[:]:\n",
    "    layer.trainable = True"
   ]
  },
  {
   "cell_type": "code",
   "execution_count": 109,
   "metadata": {},
   "outputs": [],
   "source": [
    "for layer in model.layers[:-6]:\n",
    "    layer.trainable = False"
   ]
  },
  {
   "cell_type": "code",
   "execution_count": 110,
   "metadata": {
    "colab": {},
    "colab_type": "code",
    "id": "FcfmjC7JxvfQ"
   },
   "outputs": [],
   "source": [
    "# compile the model\n",
    "model.compile(Adam(), loss='categorical_crossentropy', metrics=['accuracy'])"
   ]
  },
  {
   "cell_type": "code",
   "execution_count": 112,
   "metadata": {
    "colab": {
     "base_uri": "https://localhost:8080/",
     "height": 178
    },
    "colab_type": "code",
    "id": "ALFJCPQGxv3w",
    "outputId": "879884f1-5425-4b84-a0f9-bdf2ddb2314a"
   },
   "outputs": [
    {
     "name": "stdout",
     "output_type": "stream",
     "text": [
      "Epoch 1/10\n",
      " - 9s - loss: 0.5313 - acc: 0.7503 - val_loss: 0.6021 - val_acc: 0.6911\n",
      "Epoch 2/10\n",
      " - 8s - loss: 0.5266 - acc: 0.7540 - val_loss: 0.5602 - val_acc: 0.7385\n",
      "Epoch 3/10\n",
      " - 9s - loss: 0.5379 - acc: 0.7540 - val_loss: 0.6269 - val_acc: 0.6851\n",
      "Epoch 4/10\n",
      " - 9s - loss: 0.5310 - acc: 0.7485 - val_loss: 0.6016 - val_acc: 0.7037\n",
      "Epoch 5/10\n",
      " - 8s - loss: 0.5295 - acc: 0.7528 - val_loss: 0.5851 - val_acc: 0.7029\n",
      "Epoch 6/10\n",
      " - 9s - loss: 0.5172 - acc: 0.7519 - val_loss: 0.5638 - val_acc: 0.7203\n",
      "Epoch 7/10\n",
      " - 9s - loss: 0.5228 - acc: 0.7552 - val_loss: 0.5734 - val_acc: 0.6954\n",
      "Epoch 8/10\n",
      " - 9s - loss: 0.5232 - acc: 0.7515 - val_loss: 0.5803 - val_acc: 0.7157\n",
      "Epoch 9/10\n",
      " - 9s - loss: 0.5264 - acc: 0.7644 - val_loss: 0.5866 - val_acc: 0.7184\n",
      "Epoch 10/10\n",
      " - 8s - loss: 0.5260 - acc: 0.7503 - val_loss: 0.5827 - val_acc: 0.6948\n"
     ]
    },
    {
     "data": {
      "text/plain": [
       "<keras.callbacks.History at 0x7f87f6e3d160>"
      ]
     },
     "execution_count": 112,
     "metadata": {},
     "output_type": "execute_result"
    }
   ],
   "source": [
    "# start training\n",
    "model.fit_generator(train_batches, steps_per_epoch=163, \n",
    "                    validation_data=valid_batches, validation_steps=182, epochs=10, verbose=2)\n"
   ]
  },
  {
   "cell_type": "code",
   "execution_count": 130,
   "metadata": {
    "colab": {},
    "colab_type": "code",
    "id": "en57h8I7xvcO"
   },
   "outputs": [],
   "source": [
    "# Get the labels\n",
    "test_labels = test_batches.classes\n",
    "# Rest the cursor to the start of the test set befor testing\n",
    "test_batches.reset()"
   ]
  },
  {
   "cell_type": "code",
   "execution_count": 131,
   "metadata": {
    "colab": {
     "base_uri": "https://localhost:8080/",
     "height": 33
    },
    "colab_type": "code",
    "id": "l1soDXALWXJO",
    "outputId": "9d6c866b-76b3-4072-9ef8-4ae5578368ad"
   },
   "outputs": [
    {
     "name": "stdout",
     "output_type": "stream",
     "text": [
      "31/31 [==============================] - 2s 68ms/step\n"
     ]
    }
   ],
   "source": [
    "# Test the model on the test set\n",
    "predictions = model.predict_generator(test_batches, steps=31, verbose=1)"
   ]
  },
  {
   "cell_type": "code",
   "execution_count": 132,
   "metadata": {
    "colab": {},
    "colab_type": "code",
    "id": "J54jlDDfWiEh"
   },
   "outputs": [],
   "source": [
    "# Prepare the confusion matrix\n",
    "cm = confusion_matrix(test_labels, predictions.argmax(axis=1))"
   ]
  },
  {
   "cell_type": "code",
   "execution_count": 133,
   "metadata": {
    "colab": {
     "base_uri": "https://localhost:8080/",
     "height": 33
    },
    "colab_type": "code",
    "id": "RkaWuMqdymtu",
    "outputId": "b45dda23-0d20-49bd-c634-cb52b7740b8a"
   },
   "outputs": [
    {
     "data": {
      "text/plain": [
       "{'negative': 0, 'positive': 1}"
      ]
     },
     "execution_count": 133,
     "metadata": {},
     "output_type": "execute_result"
    }
   ],
   "source": [
    "# check the labels with thier indices\n",
    "test_batches.class_indices"
   ]
  },
  {
   "cell_type": "code",
   "execution_count": 134,
   "metadata": {
    "colab": {
     "base_uri": "https://localhost:8080/",
     "height": 361
    },
    "colab_type": "code",
    "id": "o4B3lbOFymz9",
    "outputId": "3c453989-8725-46e4-bdd9-8757a9d715ac",
    "scrolled": true
   },
   "outputs": [
    {
     "name": "stdout",
     "output_type": "stream",
     "text": [
      "Confusion matrix, without normalization\n",
      "[[138  12]\n",
      " [ 71  80]]\n"
     ]
    },
    {
     "data": {
      "image/png": "[encoded data removed]",
      "text/plain": [
       "<Figure size 432x288 with 2 Axes>"
      ]
     },
     "metadata": {
      "needs_background": "light"
     },
     "output_type": "display_data"
    }
   ],
   "source": [
    "# show the confusion matrix\n",
    "cm_plot_labels = ['negative','positive']\n",
    "plot_confusion_matrix(cm, cm_plot_labels, title='Confusion Matrix')"
   ]
  },
  {
   "cell_type": "code",
   "execution_count": 135,
   "metadata": {},
   "outputs": [
    {
     "name": "stdout",
     "output_type": "stream",
     "text": [
      "Accuracy=  72.42524916943522  %\n"
     ]
    }
   ],
   "source": [
    "# The overall accuracy of the model\n",
    "print('Accuracy= ',(cm[0][0]+cm[1][1])*100/(cm[0][0]+cm[1][1]+cm[0][1]+cm[1][0]),' %')"
   ]
  },
  {
   "cell_type": "code",
   "execution_count": 136,
   "metadata": {},
   "outputs": [],
   "source": [
    "# Prepare the images for (TEST ON STUDY LEVEL)\n",
    "def prepare_image(file):\n",
    "    img_path = ''\n",
    "    img = image.load_img(file, target_size=(224, 224))\n",
    "    img_array = image.img_to_array(img)\n",
    "    img_array_expanded_dims = np.expand_dims(img_array, axis=0)\n",
    "    return keras.applications.mobilenet.preprocess_input(img_array_expanded_dims)"
   ]
  },
  {
   "cell_type": "code",
   "execution_count": 137,
   "metadata": {},
   "outputs": [
    {
     "name": "stdout",
     "output_type": "stream",
     "text": [
      "MURA-v1.1/valid/XR_FOREARM/patient11458/study1_negative/image2.png\n",
      "MURA-v1.1/valid/XR_FOREARM/patient11458/study1_negative/image1.png\n",
      "MURA-v1.1/valid/XR_FOREARM/patient11458/study2_negative/image2.png\n",
      "MURA-v1.1/valid/XR_FOREARM/patient11458/study2_negative/image1.png\n",
      "MURA-v1.1/valid/XR_FOREARM/patient11419/study1_positive/image2.png\n",
      "MURA-v1.1/valid/XR_FOREARM/patient11419/study1_positive/image1.png\n",
      "MURA-v1.1/valid/XR_FOREARM/patient11473/study1_negative/image2.png\n",
      "MURA-v1.1/valid/XR_FOREARM/patient11473/study1_negative/image1.png\n",
      "MURA-v1.1/valid/XR_FOREARM/patient11487/study1_negative/image3.png\n",
      "MURA-v1.1/valid/XR_FOREARM/patient11487/study1_negative/image2.png\n",
      "MURA-v1.1/valid/XR_FOREARM/patient11487/study1_negative/image1.png\n",
      "MURA-v1.1/valid/XR_FOREARM/patient11406/study1_positive/image2.png\n",
      "MURA-v1.1/valid/XR_FOREARM/patient11406/study1_positive/image1.png\n",
      "MURA-v1.1/valid/XR_FOREARM/patient11396/study1_positive/image2.png\n",
      "MURA-v1.1/valid/XR_FOREARM/patient11396/study1_positive/image1.png\n",
      "MURA-v1.1/valid/XR_FOREARM/patient11436/study1_positive/image2.png\n",
      "MURA-v1.1/valid/XR_FOREARM/patient11436/study1_positive/image1.png\n",
      "MURA-v1.1/valid/XR_FOREARM/patient11489/study1_negative/image2.png\n",
      "MURA-v1.1/valid/XR_FOREARM/patient11489/study1_negative/image1.png\n",
      "MURA-v1.1/valid/XR_FOREARM/patient11409/study1_positive/image2.png\n",
      "MURA-v1.1/valid/XR_FOREARM/patient11409/study1_positive/image1.png\n",
      "MURA-v1.1/valid/XR_FOREARM/patient11414/study1_positive/image2.png\n",
      "MURA-v1.1/valid/XR_FOREARM/patient11414/study1_positive/image1.png\n",
      "MURA-v1.1/valid/XR_FOREARM/patient11452/study1_negative/image2.png\n",
      "MURA-v1.1/valid/XR_FOREARM/patient11452/study1_negative/image1.png\n",
      "MURA-v1.1/valid/XR_FOREARM/patient11277/study1_negative/image2.png\n",
      "MURA-v1.1/valid/XR_FOREARM/patient11277/study1_negative/image1.png\n",
      "MURA-v1.1/valid/XR_FOREARM/patient11474/study1_negative/image2.png\n",
      "MURA-v1.1/valid/XR_FOREARM/patient11474/study1_negative/image1.png\n",
      "MURA-v1.1/valid/XR_FOREARM/patient11420/study1_positive/image4.png\n",
      "MURA-v1.1/valid/XR_FOREARM/patient11420/study1_positive/image3.png\n",
      "MURA-v1.1/valid/XR_FOREARM/patient11420/study1_positive/image2.png\n",
      "MURA-v1.1/valid/XR_FOREARM/patient11420/study1_positive/image1.png\n",
      "MURA-v1.1/valid/XR_FOREARM/patient11456/study1_negative/image2.png\n",
      "MURA-v1.1/valid/XR_FOREARM/patient11456/study1_negative/image1.png\n",
      "MURA-v1.1/valid/XR_FOREARM/patient11453/study1_negative/image2.png\n",
      "MURA-v1.1/valid/XR_FOREARM/patient11453/study1_negative/image1.png\n",
      "MURA-v1.1/valid/XR_FOREARM/patient11324/study1_negative/image2.png\n",
      "MURA-v1.1/valid/XR_FOREARM/patient11324/study1_negative/image1.png\n",
      "MURA-v1.1/valid/XR_FOREARM/patient11463/study1_negative/image2.png\n",
      "MURA-v1.1/valid/XR_FOREARM/patient11463/study1_negative/image1.png\n",
      "MURA-v1.1/valid/XR_FOREARM/patient11434/study1_positive/image2.png\n",
      "MURA-v1.1/valid/XR_FOREARM/patient11434/study1_positive/image1.png\n",
      "MURA-v1.1/valid/XR_FOREARM/patient11407/study1_positive/image2.png\n",
      "MURA-v1.1/valid/XR_FOREARM/patient11407/study1_positive/image1.png\n",
      "MURA-v1.1/valid/XR_FOREARM/patient11466/study1_negative/image3.png\n",
      "MURA-v1.1/valid/XR_FOREARM/patient11466/study1_negative/image2.png\n",
      "MURA-v1.1/valid/XR_FOREARM/patient11466/study1_negative/image1.png\n",
      "MURA-v1.1/valid/XR_FOREARM/patient11467/study1_negative/image2.png\n",
      "MURA-v1.1/valid/XR_FOREARM/patient11467/study1_negative/image1.png\n",
      "MURA-v1.1/valid/XR_FOREARM/patient11423/study1_positive/image4.png\n",
      "MURA-v1.1/valid/XR_FOREARM/patient11423/study1_positive/image3.png\n",
      "MURA-v1.1/valid/XR_FOREARM/patient11423/study1_positive/image2.png\n",
      "MURA-v1.1/valid/XR_FOREARM/patient11423/study1_positive/image1.png\n",
      "MURA-v1.1/valid/XR_FOREARM/patient11468/study1_negative/image2.png\n",
      "MURA-v1.1/valid/XR_FOREARM/patient11468/study1_negative/image1.png\n",
      "MURA-v1.1/valid/XR_FOREARM/patient11460/study1_negative/image2.png\n",
      "MURA-v1.1/valid/XR_FOREARM/patient11460/study1_negative/image1.png\n",
      "MURA-v1.1/valid/XR_FOREARM/patient11471/study1_negative/image2.png\n",
      "MURA-v1.1/valid/XR_FOREARM/patient11471/study1_negative/image1.png\n",
      "MURA-v1.1/valid/XR_FOREARM/patient11242/study1_positive/image2.png\n",
      "MURA-v1.1/valid/XR_FOREARM/patient11242/study1_positive/image1.png\n",
      "MURA-v1.1/valid/XR_FOREARM/patient11493/study1_negative/image2.png\n",
      "MURA-v1.1/valid/XR_FOREARM/patient11493/study1_negative/image1.png\n",
      "MURA-v1.1/valid/XR_FOREARM/patient11398/study1_positive/image3.png\n",
      "MURA-v1.1/valid/XR_FOREARM/patient11398/study1_positive/image2.png\n",
      "MURA-v1.1/valid/XR_FOREARM/patient11398/study1_positive/image1.png\n",
      "MURA-v1.1/valid/XR_FOREARM/patient11494/study1_negative/image2.png\n",
      "MURA-v1.1/valid/XR_FOREARM/patient11494/study1_negative/image1.png\n",
      "MURA-v1.1/valid/XR_FOREARM/patient11328/study1_positive/image3.png\n",
      "MURA-v1.1/valid/XR_FOREARM/patient11328/study1_positive/image2.png\n",
      "MURA-v1.1/valid/XR_FOREARM/patient11328/study1_positive/image1.png\n",
      "MURA-v1.1/valid/XR_FOREARM/patient11258/study1_positive/image2.png\n",
      "MURA-v1.1/valid/XR_FOREARM/patient11258/study1_positive/image1.png\n",
      "MURA-v1.1/valid/XR_FOREARM/patient11316/study1_negative/image2.png\n",
      "MURA-v1.1/valid/XR_FOREARM/patient11316/study1_negative/image1.png\n",
      "MURA-v1.1/valid/XR_FOREARM/patient11410/study1_positive/image2.png\n",
      "MURA-v1.1/valid/XR_FOREARM/patient11410/study1_positive/image1.png\n",
      "MURA-v1.1/valid/XR_FOREARM/patient11477/study1_negative/image3.png\n",
      "MURA-v1.1/valid/XR_FOREARM/patient11477/study1_negative/image2.png\n",
      "MURA-v1.1/valid/XR_FOREARM/patient11477/study1_negative/image1.png\n",
      "MURA-v1.1/valid/XR_FOREARM/patient11478/study1_negative/image1.png\n",
      "MURA-v1.1/valid/XR_FOREARM/patient11492/study1_negative/image2.png\n",
      "MURA-v1.1/valid/XR_FOREARM/patient11492/study1_negative/image1.png\n",
      "MURA-v1.1/valid/XR_FOREARM/patient11451/study1_negative/image2.png\n",
      "MURA-v1.1/valid/XR_FOREARM/patient11451/study1_negative/image1.png\n",
      "MURA-v1.1/valid/XR_FOREARM/patient11294/study1_negative/image2.png\n",
      "MURA-v1.1/valid/XR_FOREARM/patient11294/study1_negative/image1.png\n",
      "MURA-v1.1/valid/XR_FOREARM/patient11215/study1_negative/image2.png\n",
      "MURA-v1.1/valid/XR_FOREARM/patient11215/study1_negative/image1.png\n",
      "MURA-v1.1/valid/XR_FOREARM/patient11440/study1_positive/image3.png\n",
      "MURA-v1.1/valid/XR_FOREARM/patient11440/study1_positive/image2.png\n",
      "MURA-v1.1/valid/XR_FOREARM/patient11440/study1_positive/image1.png\n",
      "MURA-v1.1/valid/XR_FOREARM/patient11481/study1_negative/image5.png\n",
      "MURA-v1.1/valid/XR_FOREARM/patient11481/study1_negative/image4.png\n",
      "MURA-v1.1/valid/XR_FOREARM/patient11481/study1_negative/image3.png\n",
      "MURA-v1.1/valid/XR_FOREARM/patient11481/study1_negative/image2.png\n",
      "MURA-v1.1/valid/XR_FOREARM/patient11481/study1_negative/image1.png\n",
      "MURA-v1.1/valid/XR_FOREARM/patient11403/study1_positive/image2.png\n",
      "MURA-v1.1/valid/XR_FOREARM/patient11403/study1_positive/image1.png\n",
      "MURA-v1.1/valid/XR_FOREARM/patient11483/study1_negative/image2.png\n",
      "MURA-v1.1/valid/XR_FOREARM/patient11483/study1_negative/image1.png\n",
      "MURA-v1.1/valid/XR_FOREARM/patient11432/study1_positive/image2.png\n",
      "MURA-v1.1/valid/XR_FOREARM/patient11432/study1_positive/image1.png\n",
      "MURA-v1.1/valid/XR_FOREARM/patient11448/study1_negative/image2.png\n",
      "MURA-v1.1/valid/XR_FOREARM/patient11448/study1_negative/image1.png\n",
      "MURA-v1.1/valid/XR_FOREARM/patient11416/study1_positive/image2.png\n",
      "MURA-v1.1/valid/XR_FOREARM/patient11416/study1_positive/image1.png\n",
      "MURA-v1.1/valid/XR_FOREARM/patient11422/study1_positive/image2.png\n",
      "MURA-v1.1/valid/XR_FOREARM/patient11422/study1_positive/image1.png\n",
      "MURA-v1.1/valid/XR_FOREARM/patient11490/study1_negative/image2.png\n",
      "MURA-v1.1/valid/XR_FOREARM/patient11490/study1_negative/image1.png\n",
      "MURA-v1.1/valid/XR_FOREARM/patient11425/study1_positive/image3.png\n",
      "MURA-v1.1/valid/XR_FOREARM/patient11425/study1_positive/image2.png\n",
      "MURA-v1.1/valid/XR_FOREARM/patient11425/study1_positive/image1.png\n",
      "MURA-v1.1/valid/XR_FOREARM/patient11446/study1_negative/image2.png\n",
      "MURA-v1.1/valid/XR_FOREARM/patient11446/study1_negative/image1.png\n",
      "MURA-v1.1/valid/XR_FOREARM/patient11308/study1_positive/image2.png\n",
      "MURA-v1.1/valid/XR_FOREARM/patient11308/study1_positive/image1.png\n",
      "MURA-v1.1/valid/XR_FOREARM/patient11469/study1_negative/image2.png\n",
      "MURA-v1.1/valid/XR_FOREARM/patient11469/study1_negative/image1.png\n",
      "MURA-v1.1/valid/XR_FOREARM/patient11401/study1_positive/image2.png\n",
      "MURA-v1.1/valid/XR_FOREARM/patient11401/study1_positive/image1.png\n",
      "MURA-v1.1/valid/XR_FOREARM/patient11442/study1_positive/image2.png\n",
      "MURA-v1.1/valid/XR_FOREARM/patient11442/study1_positive/image1.png\n",
      "MURA-v1.1/valid/XR_FOREARM/patient11417/study1_positive/image4.png\n",
      "MURA-v1.1/valid/XR_FOREARM/patient11417/study1_positive/image3.png\n",
      "MURA-v1.1/valid/XR_FOREARM/patient11417/study1_positive/image2.png\n",
      "MURA-v1.1/valid/XR_FOREARM/patient11417/study1_positive/image1.png\n",
      "MURA-v1.1/valid/XR_FOREARM/patient11443/study1_positive/image2.png\n",
      "MURA-v1.1/valid/XR_FOREARM/patient11443/study1_positive/image1.png\n",
      "MURA-v1.1/valid/XR_FOREARM/patient11439/study1_positive/image2.png\n",
      "MURA-v1.1/valid/XR_FOREARM/patient11439/study1_positive/image1.png\n",
      "MURA-v1.1/valid/XR_FOREARM/patient11255/study1_negative/image3.png\n",
      "MURA-v1.1/valid/XR_FOREARM/patient11255/study1_negative/image2.png\n",
      "MURA-v1.1/valid/XR_FOREARM/patient11255/study1_negative/image1.png\n",
      "MURA-v1.1/valid/XR_FOREARM/patient11220/study1_positive/image2.png\n",
      "MURA-v1.1/valid/XR_FOREARM/patient11220/study1_positive/image1.png\n",
      "MURA-v1.1/valid/XR_FOREARM/patient11430/study1_positive/image2.png\n",
      "MURA-v1.1/valid/XR_FOREARM/patient11430/study1_positive/image1.png\n"
     ]
    },
    {
     "name": "stdout",
     "output_type": "stream",
     "text": [
      "MURA-v1.1/valid/XR_FOREARM/patient11484/study1_negative/image1.png\n",
      "MURA-v1.1/valid/XR_FOREARM/patient11283/study1_negative/image2.png\n",
      "MURA-v1.1/valid/XR_FOREARM/patient11283/study1_negative/image1.png\n",
      "MURA-v1.1/valid/XR_FOREARM/patient11429/study1_positive/image2.png\n",
      "MURA-v1.1/valid/XR_FOREARM/patient11429/study1_positive/image1.png\n",
      "MURA-v1.1/valid/XR_FOREARM/patient11362/study1_negative/image2.png\n",
      "MURA-v1.1/valid/XR_FOREARM/patient11362/study1_negative/image1.png\n",
      "MURA-v1.1/valid/XR_FOREARM/patient11465/study1_negative/image1.png\n",
      "MURA-v1.1/valid/XR_FOREARM/patient11412/study1_positive/image1.png\n",
      "MURA-v1.1/valid/XR_FOREARM/patient11435/study1_positive/image2.png\n",
      "MURA-v1.1/valid/XR_FOREARM/patient11435/study1_positive/image1.png\n",
      "MURA-v1.1/valid/XR_FOREARM/patient11355/study1_positive/image2.png\n",
      "MURA-v1.1/valid/XR_FOREARM/patient11355/study1_positive/image1.png\n",
      "MURA-v1.1/valid/XR_FOREARM/patient11397/study1_positive/image2.png\n",
      "MURA-v1.1/valid/XR_FOREARM/patient11397/study1_positive/image1.png\n",
      "MURA-v1.1/valid/XR_FOREARM/patient11392/study1_positive/image3.png\n",
      "MURA-v1.1/valid/XR_FOREARM/patient11392/study1_positive/image2.png\n",
      "MURA-v1.1/valid/XR_FOREARM/patient11392/study1_positive/image1.png\n",
      "MURA-v1.1/valid/XR_FOREARM/patient11461/study1_negative/image2.png\n",
      "MURA-v1.1/valid/XR_FOREARM/patient11461/study1_negative/image1.png\n",
      "MURA-v1.1/valid/XR_FOREARM/patient11411/study1_positive/image2.png\n",
      "MURA-v1.1/valid/XR_FOREARM/patient11411/study1_positive/image1.png\n",
      "MURA-v1.1/valid/XR_FOREARM/patient11441/study1_positive/image3.png\n",
      "MURA-v1.1/valid/XR_FOREARM/patient11441/study1_positive/image2.png\n",
      "MURA-v1.1/valid/XR_FOREARM/patient11441/study1_positive/image1.png\n",
      "MURA-v1.1/valid/XR_FOREARM/patient11235/study1_negative/image2.png\n",
      "MURA-v1.1/valid/XR_FOREARM/patient11235/study1_negative/image1.png\n",
      "MURA-v1.1/valid/XR_FOREARM/patient11399/study2_negative/image2.png\n",
      "MURA-v1.1/valid/XR_FOREARM/patient11399/study2_negative/image1.png\n",
      "MURA-v1.1/valid/XR_FOREARM/patient11399/study1_positive/image2.png\n",
      "MURA-v1.1/valid/XR_FOREARM/patient11399/study1_positive/image1.png\n",
      "MURA-v1.1/valid/XR_FOREARM/patient11495/study1_negative/image2.png\n",
      "MURA-v1.1/valid/XR_FOREARM/patient11495/study1_negative/image1.png\n",
      "MURA-v1.1/valid/XR_FOREARM/patient11393/study1_positive/image2.png\n",
      "MURA-v1.1/valid/XR_FOREARM/patient11393/study1_positive/image1.png\n",
      "MURA-v1.1/valid/XR_FOREARM/patient11470/study1_negative/image1.png\n",
      "MURA-v1.1/valid/XR_FOREARM/patient11418/study3_negative/image2.png\n",
      "MURA-v1.1/valid/XR_FOREARM/patient11418/study3_negative/image1.png\n",
      "MURA-v1.1/valid/XR_FOREARM/patient11418/study2_positive/image2.png\n",
      "MURA-v1.1/valid/XR_FOREARM/patient11418/study2_positive/image1.png\n",
      "MURA-v1.1/valid/XR_FOREARM/patient11418/study1_positive/image2.png\n",
      "MURA-v1.1/valid/XR_FOREARM/patient11418/study1_positive/image1.png\n",
      "MURA-v1.1/valid/XR_FOREARM/patient11405/study1_positive/image2.png\n",
      "MURA-v1.1/valid/XR_FOREARM/patient11405/study1_positive/image1.png\n",
      "MURA-v1.1/valid/XR_FOREARM/patient11191/study1_negative/image3.png\n",
      "MURA-v1.1/valid/XR_FOREARM/patient11191/study1_negative/image2.png\n",
      "MURA-v1.1/valid/XR_FOREARM/patient11191/study1_negative/image1.png\n",
      "MURA-v1.1/valid/XR_FOREARM/patient11431/study1_positive/image2.png\n",
      "MURA-v1.1/valid/XR_FOREARM/patient11431/study1_positive/image1.png\n",
      "MURA-v1.1/valid/XR_FOREARM/patient11449/study1_negative/image2.png\n",
      "MURA-v1.1/valid/XR_FOREARM/patient11449/study1_negative/image1.png\n",
      "MURA-v1.1/valid/XR_FOREARM/patient11450/study1_negative/image2.png\n",
      "MURA-v1.1/valid/XR_FOREARM/patient11450/study1_negative/image1.png\n",
      "MURA-v1.1/valid/XR_FOREARM/patient11319/study1_positive/image2.png\n",
      "MURA-v1.1/valid/XR_FOREARM/patient11319/study1_positive/image1.png\n",
      "MURA-v1.1/valid/XR_FOREARM/patient11479/study1_negative/image2.png\n",
      "MURA-v1.1/valid/XR_FOREARM/patient11479/study1_negative/image1.png\n",
      "MURA-v1.1/valid/XR_FOREARM/patient11400/study1_positive/image2.png\n",
      "MURA-v1.1/valid/XR_FOREARM/patient11400/study1_positive/image1.png\n",
      "MURA-v1.1/valid/XR_FOREARM/patient11188/study1_negative/image2.png\n",
      "MURA-v1.1/valid/XR_FOREARM/patient11188/study1_negative/image1.png\n",
      "MURA-v1.1/valid/XR_FOREARM/patient11476/study1_negative/image3.png\n",
      "MURA-v1.1/valid/XR_FOREARM/patient11476/study1_negative/image2.png\n",
      "MURA-v1.1/valid/XR_FOREARM/patient11476/study1_negative/image1.png\n",
      "MURA-v1.1/valid/XR_FOREARM/patient11413/study1_positive/image2.png\n",
      "MURA-v1.1/valid/XR_FOREARM/patient11413/study1_positive/image1.png\n",
      "MURA-v1.1/valid/XR_FOREARM/patient11496/study1_negative/image2.png\n",
      "MURA-v1.1/valid/XR_FOREARM/patient11496/study1_negative/image1.png\n",
      "MURA-v1.1/valid/XR_FOREARM/patient11482/study1_negative/image2.png\n",
      "MURA-v1.1/valid/XR_FOREARM/patient11482/study1_negative/image1.png\n",
      "MURA-v1.1/valid/XR_FOREARM/patient11394/study1_positive/image2.png\n",
      "MURA-v1.1/valid/XR_FOREARM/patient11394/study1_positive/image1.png\n",
      "MURA-v1.1/valid/XR_FOREARM/patient11402/study1_positive/image2.png\n",
      "MURA-v1.1/valid/XR_FOREARM/patient11402/study1_positive/image1.png\n",
      "MURA-v1.1/valid/XR_FOREARM/patient11486/study1_negative/image3.png\n",
      "MURA-v1.1/valid/XR_FOREARM/patient11486/study1_negative/image2.png\n",
      "MURA-v1.1/valid/XR_FOREARM/patient11486/study1_negative/image1.png\n",
      "MURA-v1.1/valid/XR_FOREARM/patient11408/study1_positive/image3.png\n",
      "MURA-v1.1/valid/XR_FOREARM/patient11408/study1_positive/image2.png\n",
      "MURA-v1.1/valid/XR_FOREARM/patient11408/study1_positive/image1.png\n",
      "MURA-v1.1/valid/XR_FOREARM/patient11475/study1_negative/image3.png\n",
      "MURA-v1.1/valid/XR_FOREARM/patient11475/study1_negative/image2.png\n",
      "MURA-v1.1/valid/XR_FOREARM/patient11475/study1_negative/image1.png\n",
      "MURA-v1.1/valid/XR_FOREARM/patient11415/study1_positive/image3.png\n",
      "MURA-v1.1/valid/XR_FOREARM/patient11415/study1_positive/image2.png\n",
      "MURA-v1.1/valid/XR_FOREARM/patient11415/study1_positive/image1.png\n",
      "MURA-v1.1/valid/XR_FOREARM/patient11488/study1_negative/image2.png\n",
      "MURA-v1.1/valid/XR_FOREARM/patient11488/study1_negative/image1.png\n",
      "MURA-v1.1/valid/XR_FOREARM/patient11404/study1_positive/image2.png\n",
      "MURA-v1.1/valid/XR_FOREARM/patient11404/study1_positive/image1.png\n",
      "MURA-v1.1/valid/XR_FOREARM/patient11214/study1_negative/image1.png\n",
      "MURA-v1.1/valid/XR_FOREARM/patient11445/study1_negative/image2.png\n",
      "MURA-v1.1/valid/XR_FOREARM/patient11445/study1_negative/image1.png\n",
      "MURA-v1.1/valid/XR_FOREARM/patient11444/study1_positive/image2.png\n",
      "MURA-v1.1/valid/XR_FOREARM/patient11444/study1_positive/image1.png\n",
      "MURA-v1.1/valid/XR_FOREARM/patient11359/study1_positive/image3.png\n",
      "MURA-v1.1/valid/XR_FOREARM/patient11359/study1_positive/image2.png\n",
      "MURA-v1.1/valid/XR_FOREARM/patient11359/study1_positive/image1.png\n",
      "MURA-v1.1/valid/XR_FOREARM/patient11426/study1_positive/image2.png\n",
      "MURA-v1.1/valid/XR_FOREARM/patient11426/study1_positive/image1.png\n",
      "MURA-v1.1/valid/XR_FOREARM/patient11485/study1_negative/image3.png\n",
      "MURA-v1.1/valid/XR_FOREARM/patient11485/study1_negative/image2.png\n",
      "MURA-v1.1/valid/XR_FOREARM/patient11485/study1_negative/image1.png\n",
      "MURA-v1.1/valid/XR_FOREARM/patient11248/study1_positive/image2.png\n",
      "MURA-v1.1/valid/XR_FOREARM/patient11248/study1_positive/image1.png\n",
      "MURA-v1.1/valid/XR_FOREARM/patient11437/study1_positive/image2.png\n",
      "MURA-v1.1/valid/XR_FOREARM/patient11437/study1_positive/image1.png\n",
      "MURA-v1.1/valid/XR_FOREARM/patient11480/study1_negative/image2.png\n",
      "MURA-v1.1/valid/XR_FOREARM/patient11480/study1_negative/image1.png\n",
      "MURA-v1.1/valid/XR_FOREARM/patient11427/study1_positive/image2.png\n",
      "MURA-v1.1/valid/XR_FOREARM/patient11427/study1_positive/image1.png\n",
      "MURA-v1.1/valid/XR_FOREARM/patient11491/study1_negative/image4.png\n",
      "MURA-v1.1/valid/XR_FOREARM/patient11491/study1_negative/image3.png\n",
      "MURA-v1.1/valid/XR_FOREARM/patient11491/study1_negative/image2.png\n",
      "MURA-v1.1/valid/XR_FOREARM/patient11491/study1_negative/image1.png\n",
      "MURA-v1.1/valid/XR_FOREARM/patient11421/study1_positive/image2.png\n",
      "MURA-v1.1/valid/XR_FOREARM/patient11421/study1_positive/image1.png\n",
      "MURA-v1.1/valid/XR_FOREARM/patient11472/study1_negative/image2.png\n",
      "MURA-v1.1/valid/XR_FOREARM/patient11472/study1_negative/image1.png\n",
      "MURA-v1.1/valid/XR_FOREARM/patient11447/study1_negative/image2.png\n",
      "MURA-v1.1/valid/XR_FOREARM/patient11447/study1_negative/image1.png\n",
      "MURA-v1.1/valid/XR_FOREARM/patient11424/study1_positive/image2.png\n",
      "MURA-v1.1/valid/XR_FOREARM/patient11424/study1_positive/image1.png\n",
      "MURA-v1.1/valid/XR_FOREARM/patient11457/study1_negative/image3.png\n",
      "MURA-v1.1/valid/XR_FOREARM/patient11457/study1_negative/image2.png\n",
      "MURA-v1.1/valid/XR_FOREARM/patient11457/study1_negative/image1.png\n",
      "MURA-v1.1/valid/XR_FOREARM/patient11464/study1_negative/image2.png\n",
      "MURA-v1.1/valid/XR_FOREARM/patient11464/study1_negative/image1.png\n",
      "MURA-v1.1/valid/XR_FOREARM/patient11459/study1_negative/image2.png\n",
      "MURA-v1.1/valid/XR_FOREARM/patient11459/study1_negative/image1.png\n",
      "MURA-v1.1/valid/XR_FOREARM/patient11454/study1_negative/image2.png\n",
      "MURA-v1.1/valid/XR_FOREARM/patient11454/study1_negative/image1.png\n",
      "MURA-v1.1/valid/XR_FOREARM/patient11438/study1_positive/image5.png\n",
      "MURA-v1.1/valid/XR_FOREARM/patient11438/study1_positive/image4.png\n",
      "MURA-v1.1/valid/XR_FOREARM/patient11438/study1_positive/image3.png\n",
      "MURA-v1.1/valid/XR_FOREARM/patient11438/study1_positive/image2.png\n",
      "MURA-v1.1/valid/XR_FOREARM/patient11438/study1_positive/image1.png\n",
      "MURA-v1.1/valid/XR_FOREARM/patient11438/study1_positive/image9.png\n",
      "MURA-v1.1/valid/XR_FOREARM/patient11438/study1_positive/image7.png\n",
      "MURA-v1.1/valid/XR_FOREARM/patient11438/study1_positive/image8.png\n",
      "MURA-v1.1/valid/XR_FOREARM/patient11438/study1_positive/image10.png\n",
      "MURA-v1.1/valid/XR_FOREARM/patient11438/study1_positive/image6.png\n",
      "MURA-v1.1/valid/XR_FOREARM/patient11369/study1_negative/image2.png\n",
      "MURA-v1.1/valid/XR_FOREARM/patient11369/study1_negative/image1.png\n",
      "MURA-v1.1/valid/XR_FOREARM/patient11395/study1_positive/image2.png\n"
     ]
    },
    {
     "name": "stdout",
     "output_type": "stream",
     "text": [
      "MURA-v1.1/valid/XR_FOREARM/patient11395/study1_positive/image1.png\n",
      "MURA-v1.1/valid/XR_FOREARM/patient11433/study1_positive/image3.png\n",
      "MURA-v1.1/valid/XR_FOREARM/patient11433/study1_positive/image2.png\n",
      "MURA-v1.1/valid/XR_FOREARM/patient11433/study1_positive/image1.png\n",
      "MURA-v1.1/valid/XR_FOREARM/patient11365/study1_positive/image2.png\n",
      "MURA-v1.1/valid/XR_FOREARM/patient11365/study1_positive/image1.png\n",
      "MURA-v1.1/valid/XR_FOREARM/patient11462/study1_negative/image3.png\n",
      "MURA-v1.1/valid/XR_FOREARM/patient11462/study1_negative/image2.png\n",
      "MURA-v1.1/valid/XR_FOREARM/patient11462/study1_negative/image1.png\n",
      "MURA-v1.1/valid/XR_FOREARM/patient11376/study1_negative/image3.png\n",
      "MURA-v1.1/valid/XR_FOREARM/patient11376/study1_negative/image2.png\n",
      "MURA-v1.1/valid/XR_FOREARM/patient11376/study1_negative/image1.png\n",
      "MURA-v1.1/valid/XR_FOREARM/patient11428/study1_positive/image2.png\n",
      "MURA-v1.1/valid/XR_FOREARM/patient11428/study1_positive/image1.png\n",
      "MURA-v1.1/valid/XR_FOREARM/patient11455/study1_negative/image2.png\n",
      "MURA-v1.1/valid/XR_FOREARM/patient11455/study1_negative/image1.png\n"
     ]
    }
   ],
   "source": [
    "# Test the model on the study level:\n",
    "# 1. all the images in one study are gettting predicted indivisually\n",
    "# 2. the arithmatic mean of all the images in one study is taken to\n",
    "#    produce the prediction on the study level\n",
    "\n",
    "path='MURA-v1.1/valid/XR_FOREARM/'\n",
    "img_count=0\n",
    "img_pos=0\n",
    "img_neg=0\n",
    "img_fpos=0\n",
    "img_fneg=0\n",
    "true_pos=0\n",
    "true_neg=0\n",
    "false_pos=0\n",
    "false_neg=0\n",
    "false_pos_lst=[]\n",
    "false_neg_lst=[]\n",
    "templst=[]\n",
    "\n",
    "for patient in os.listdir(path):\n",
    "    for study in os.listdir(path+patient):\n",
    "        total_pred=0\n",
    "        for img in os.listdir(path+patient+'/'+study):\n",
    "            img_count +=1\n",
    "            print(path+patient+'/'+study+'/'+img)\n",
    "            preprocessed_image = prepare_image(path+patient+'/'+study+'/'+img)\n",
    "            predictions = model.predict(preprocessed_image)\n",
    "            if predictions[0][1]>0.5 and study.split('_')[1] == 'positive':\n",
    "                img_pos += 1\n",
    "            elif predictions[0][1]<=0.5 and study.split('_')[1] == 'negative':\n",
    "                img_neg += 1\n",
    "            elif predictions[0][1]>0.5 and study.split('_')[1] != 'positive':\n",
    "                img_fpos += 1\n",
    "            else:\n",
    "                img_fneg += 1\n",
    "        \n",
    "            total_pred += predictions[0][1]\n",
    "        avg_pred = total_pred/len(os.listdir(path+patient+'/'+study))\n",
    "        if avg_pred <= 0.5:\n",
    "            abnorm_pred='negative'\n",
    "        else:\n",
    "            abnorm_pred='positive'\n",
    "            \n",
    "        if abnorm_pred == study.split('_')[1] == 'positive':\n",
    "            true_pos +=1\n",
    "        elif abnorm_pred == study.split('_')[1] == 'negative':\n",
    "            true_neg +=1\n",
    "        elif abnorm_pred != study.split('_')[1] == 'negative':\n",
    "            false_pos +=1\n",
    "            false_pos_lst.append(patient+'/'+study)\n",
    "        else:\n",
    "            false_neg +=1\n",
    "            false_neg_lst.append(patient+'/'+study)\n",
    "\n",
    "\n",
    "  \n",
    "  "
   ]
  },
  {
   "cell_type": "code",
   "execution_count": 138,
   "metadata": {},
   "outputs": [
    {
     "name": "stdout",
     "output_type": "stream",
     "text": [
      "Total number of images =  301\n",
      "True Positive =  80\n",
      "True Nigative=  138\n",
      "False Positive =  12\n",
      "False Nigative=  71\n",
      "Accuracy on IMAGE level = 72.42524916943522\n",
      "\n",
      "True Positive =  36\n",
      "True Nigative=  67\n",
      "False Positive =  2\n",
      "False Nigative=  28\n",
      "Accuracy on STUDY level = 77.44360902255639\n"
     ]
    }
   ],
   "source": [
    "# Testing on the original MURA Dataset\n",
    "\n",
    "print('Total number of images = ',img_count)\n",
    "print('True Positive = ',img_pos)\n",
    "print('True Nigative= ',img_neg)\n",
    "print('False Positive = ',img_fpos)\n",
    "print('False Nigative= ',img_fneg)\n",
    "print('Accuracy on IMAGE level =', 100*(img_pos+img_neg)/(img_pos+img_neg+img_fpos+img_fneg))\n",
    "print('')\n",
    "print('True Positive = ',true_pos)\n",
    "print('True Nigative= ',true_neg)\n",
    "print('False Positive = ',false_pos)\n",
    "print('False Nigative= ',false_neg)\n",
    "print('Accuracy on STUDY level =', 100*(true_neg+true_pos)/(true_neg+true_pos+false_neg+false_pos))"
   ]
  },
  {
   "cell_type": "code",
   "execution_count": 40,
   "metadata": {
    "colab": {},
    "colab_type": "code",
    "id": "QZzKLgs-ym8j"
   },
   "outputs": [],
   "source": [
    "#### SAVE MODEL ####\n",
    "\n",
    "model.save_weights(\"models/MN_XR_FOREARM.h5\")\n",
    "\n",
    "#Save the model architecture\n",
    "with open('models/architecture_XR_FOREARM.json', 'w') as f:\n",
    "    f.write(model.to_json())"
   ]
  },
  {
   "cell_type": "code",
   "execution_count": null,
   "metadata": {
    "colab": {},
    "colab_type": "code",
    "id": "0I1vUUqrxvRD"
   },
   "outputs": [],
   "source": []
  }
 ],
 "metadata": {
  "accelerator": "GPU",
  "colab": {
   "collapsed_sections": [],
   "name": "XR_WRIST attempt#2 with MobileNet.ipynb",
   "provenance": [],
   "version": "0.3.2"
  },
  "kernelspec": {
   "display_name": "Python 3",
   "language": "python",
   "name": "python3"
  },
  "language_info": {
   "codemirror_mode": {
    "name": "ipython",
    "version": 3
   },
   "file_extension": ".py",
   "mimetype": "text/x-python",
   "name": "python",
   "nbconvert_exporter": "python",
   "pygments_lexer": "ipython3",
   "version": "3.7.2"
  }
 },
 "nbformat": 4,
 "nbformat_minor": 1
}
